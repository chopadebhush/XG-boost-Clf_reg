{
 "cells": [
  {
   "cell_type": "markdown",
   "id": "8e1be16c-85b5-493c-bfaa-b0975030126d",
   "metadata": {},
   "source": [
    "Import necessary library"
   ]
  },
  {
   "cell_type": "code",
   "execution_count": 9,
   "id": "3e6c0757-316e-4ab8-91bc-1b0d7937093a",
   "metadata": {},
   "outputs": [],
   "source": [
    "import pandas as pd\n",
    "import numpy as np\n",
    "import matplotlib.pyplot as plt\n",
    "import seaborn as sns\n",
    "import warnings\n",
    "warnings.filterwarnings(\"ignore\")"
   ]
  },
  {
   "cell_type": "code",
   "execution_count": 10,
   "id": "fe464667-9313-439f-97be-fb5629aa8835",
   "metadata": {},
   "outputs": [],
   "source": [
    "from sklearn.datasets import make_regression\n",
    "X ,y =make_regression(n_samples=2000,random_state=1)"
   ]
  },
  {
   "cell_type": "code",
   "execution_count": 11,
   "id": "9248fff9-9d73-496d-b0a8-45591ee64903",
   "metadata": {},
   "outputs": [
    {
     "data": {
      "text/plain": [
       "array([[ 1.24656308, -0.00262717,  1.16177117, ..., -0.14381404,\n",
       "         1.04897789,  0.36642707],\n",
       "       [ 1.98789962, -0.74289827,  0.46392306, ..., -0.07953001,\n",
       "         0.88431814, -0.12744446],\n",
       "       [-1.18110317, -0.4599301 ,  1.07125243, ...,  0.41026575,\n",
       "         0.75133724,  0.39310924],\n",
       "       ...,\n",
       "       [ 0.10949255, -0.93311559,  1.06941626, ..., -0.15958241,\n",
       "        -1.09792226,  0.16945106],\n",
       "       [-0.59682953,  0.91196902,  0.32905821, ..., -0.49513463,\n",
       "         1.30232475, -0.67180649],\n",
       "       [ 0.88513231, -0.95744249,  1.24415716, ..., -0.03960346,\n",
       "        -0.44315668,  1.04897287]])"
      ]
     },
     "execution_count": 11,
     "metadata": {},
     "output_type": "execute_result"
    }
   ],
   "source": [
    "X"
   ]
  },
  {
   "cell_type": "code",
   "execution_count": 12,
   "id": "ce789985-0b9f-4398-a0dc-bd49cb76bcd4",
   "metadata": {},
   "outputs": [
    {
     "data": {
      "text/plain": [
       "array([-244.6379103 ,  338.19201455, -369.33489019, ...,   89.84615892,\n",
       "         40.23247176, -113.19250449])"
      ]
     },
     "execution_count": 12,
     "metadata": {},
     "output_type": "execute_result"
    }
   ],
   "source": [
    "y"
   ]
  },
  {
   "cell_type": "code",
   "execution_count": 13,
   "id": "d5d97c08-f387-444b-941f-e89d177d3042",
   "metadata": {},
   "outputs": [],
   "source": [
    "from sklearn.model_selection import train_test_split\n",
    "X_train ,X_test ,y_train ,y_test =train_test_split(X,y,test_size=0.3,random_state=12)"
   ]
  },
  {
   "cell_type": "code",
   "execution_count": 14,
   "id": "b5fa7ad7-bccd-49ab-b244-7ab2c0afb7ff",
   "metadata": {},
   "outputs": [
    {
     "data": {
      "text/plain": [
       "array([[-0.3102569 , -0.35427619,  0.39650492, ...,  1.26959618,\n",
       "        -0.30150675, -2.26888313],\n",
       "       [ 1.28044403,  1.73871889,  0.84672379, ..., -0.51392111,\n",
       "        -1.44702872, -1.61237671],\n",
       "       [ 0.58455701, -0.18854658,  0.10667214, ...,  0.3039744 ,\n",
       "        -0.61025316, -1.2003673 ],\n",
       "       ...,\n",
       "       [-0.87636515,  2.1606535 ,  0.69440495, ...,  0.68105216,\n",
       "         0.4741391 , -1.15527546],\n",
       "       [ 0.8521572 , -0.50782106, -0.47473822, ..., -2.60530035,\n",
       "         1.69787155, -0.57837416],\n",
       "       [-0.92166369,  1.42898437,  0.15152283, ...,  1.97076816,\n",
       "        -2.0457776 , -0.01832535]])"
      ]
     },
     "execution_count": 14,
     "metadata": {},
     "output_type": "execute_result"
    }
   ],
   "source": [
    "X_train"
   ]
  },
  {
   "cell_type": "code",
   "execution_count": 15,
   "id": "40a94d54-c6db-4752-a578-e52e14302701",
   "metadata": {},
   "outputs": [
    {
     "data": {
      "text/plain": [
       "array([[-2.47913336e+00, -1.32941774e+00,  7.55895123e-01, ...,\n",
       "         4.32523466e-01,  6.55392088e-01, -4.89171664e-01],\n",
       "       [ 1.21935522e+00,  9.17253872e-01, -6.24653153e-02, ...,\n",
       "         6.51603617e-01,  3.19617561e-02,  5.35192360e-01],\n",
       "       [ 1.59296974e+00,  1.29511140e-01,  3.47589377e-01, ...,\n",
       "         1.87142477e-01,  3.10548285e-02,  9.68582688e-01],\n",
       "       ...,\n",
       "       [-1.62038450e-01,  7.36388470e-01,  1.29887994e+00, ...,\n",
       "         1.34411245e+00,  9.42955805e-01,  6.33662061e-01],\n",
       "       [-1.37604633e-03,  7.85995759e-01,  8.75557342e-02, ...,\n",
       "         7.93833204e-01, -2.16655900e+00, -1.92740972e+00],\n",
       "       [ 1.92506088e+00,  1.44194971e+00,  1.00439787e+00, ...,\n",
       "         4.27048308e-01,  2.08982884e-01, -1.65906685e-01]])"
      ]
     },
     "execution_count": 15,
     "metadata": {},
     "output_type": "execute_result"
    }
   ],
   "source": [
    "X_test"
   ]
  },
  {
   "cell_type": "code",
   "execution_count": 16,
   "id": "0f1df647-1ba8-4573-8f98-b079e70b7d9a",
   "metadata": {},
   "outputs": [
    {
     "name": "stdout",
     "output_type": "stream",
     "text": [
      "Requirement already satisfied: XGBoost in /opt/conda/lib/python3.10/site-packages (2.0.3)\n",
      "Requirement already satisfied: numpy in /opt/conda/lib/python3.10/site-packages (from XGBoost) (1.23.5)\n",
      "Requirement already satisfied: scipy in /opt/conda/lib/python3.10/site-packages (from XGBoost) (1.9.3)\n",
      "Note: you may need to restart the kernel to use updated packages.\n"
     ]
    }
   ],
   "source": [
    "pip install XGBoost"
   ]
  },
  {
   "cell_type": "code",
   "execution_count": 18,
   "id": "414a18eb-e239-433b-bd74-3f54314bb9e7",
   "metadata": {},
   "outputs": [
    {
     "data": {
      "text/plain": [
       "array([-4.84582748e+01, -2.78153076e+02,  2.66153595e+02, -2.84341675e+02,\n",
       "        2.13032181e+02,  1.37056305e+02,  3.26282578e+01,  2.20874367e+01,\n",
       "       -8.64445877e+01,  3.58214325e+02, -1.93532181e+01, -6.84206467e+01,\n",
       "        1.23037262e+02,  9.77429962e+01, -3.98718262e+01,  1.60419876e+02,\n",
       "        1.17337967e+02, -2.32512665e+01, -1.33884979e+02, -2.05439789e+02,\n",
       "        1.23851616e+02,  2.72379272e+02,  1.46730026e+02, -2.72791538e+01,\n",
       "       -1.70996857e+01,  2.27688080e+02,  5.51205559e+01,  4.00659676e+01,\n",
       "        9.00577545e+01, -2.92101349e+02, -9.04593124e+01, -7.17330265e+00,\n",
       "        2.48543530e+01,  3.79272980e+02,  1.23011026e+01, -7.40918655e+01,\n",
       "        1.67516876e+02,  7.76638718e+01,  1.01113625e+02, -1.25347473e+02,\n",
       "        1.75748993e+02,  1.29710358e+02, -1.35450897e+02,  1.50316589e+02,\n",
       "        1.33637589e+02,  1.01831772e+02,  1.05001694e+02, -2.33605213e+01,\n",
       "        5.96004448e+01,  1.00670555e+02,  3.40004486e+02, -6.01471901e+01,\n",
       "       -1.25439926e+02, -1.80345810e+02, -7.60952225e+01,  2.01816849e+02,\n",
       "       -1.55575867e+02, -1.84366852e+02,  9.79253540e+01, -1.57358131e+01,\n",
       "       -1.98906342e+02,  1.23963860e+02,  2.02628326e+02, -1.64091095e+02,\n",
       "       -2.66280975e+02,  1.43501297e+02,  7.09165649e+01,  3.37676086e+01,\n",
       "        5.82387810e+01,  8.49436874e+01, -1.45966141e+02,  1.54007599e+02,\n",
       "        8.45558548e+01, -7.99362564e+01,  1.97197037e+02,  1.68582260e+02,\n",
       "        1.05657072e+01,  1.17112713e+01,  2.68443695e+02,  5.09552422e+01,\n",
       "        9.68452072e+00,  3.94759178e+01, -1.59343613e+02,  1.83720455e+01,\n",
       "       -1.07310020e+02,  8.78165741e+01,  1.14976746e+02, -1.20271660e+02,\n",
       "       -2.41556244e+02,  1.76462097e+02,  1.69414692e+01,  3.14544098e+02,\n",
       "        3.14368553e+01, -1.16378166e+02,  7.12681427e+01,  2.65616474e+01,\n",
       "       -5.27014122e+01, -1.38501709e+02, -3.89551659e+01,  1.21814346e+02,\n",
       "        2.03194275e+01, -1.66256027e+02, -1.09660156e+02,  6.40496750e+01,\n",
       "       -4.88433495e+01,  2.14592819e+02, -1.19774864e+02,  1.39209499e+01,\n",
       "       -1.79797852e+02, -7.98536301e+01,  3.24675636e+01, -6.82950592e+01,\n",
       "        5.85373383e+01, -1.28451050e+02,  9.54132385e+01, -8.52888794e+01,\n",
       "       -1.79411926e+02, -4.74606438e+01,  9.33254547e+01,  2.60605221e+01,\n",
       "        1.00373497e+02,  1.27950493e+02, -4.91796455e+01,  1.67121277e+02,\n",
       "       -1.88030014e+02, -3.63186111e+01, -1.21348969e+02,  1.33624619e+02,\n",
       "        5.80483780e+01,  1.91201675e+02, -8.54362488e+01,  1.15394753e+02,\n",
       "        1.18098236e+02,  3.62730469e+02,  9.86544647e+01, -3.34379292e+00,\n",
       "        6.04848900e+01, -6.68973112e+00, -4.27615814e+01,  3.90545249e+00,\n",
       "       -8.60128174e+01, -1.55313766e+02,  2.29622177e+02,  3.36201057e+01,\n",
       "       -3.85970993e+01, -1.24319923e+02, -1.66047974e+02,  1.24897125e+02,\n",
       "       -1.21523224e+02, -5.14124870e+01,  2.74129639e+02, -1.13586235e+02,\n",
       "       -3.25600769e+02, -1.75945236e+02,  1.27570107e+02, -6.57727737e+01,\n",
       "        2.90981150e+00,  6.79717636e+01,  1.30848877e+02,  4.87821732e+01,\n",
       "        7.69039764e+01, -2.48396210e+02, -7.99522171e+01,  2.50114574e+01,\n",
       "        3.53045990e+02, -1.06139778e+02, -2.03858292e+02,  1.92600342e+02,\n",
       "        1.90112518e+02,  1.59421310e+02, -3.05905190e+01,  5.54299278e+01,\n",
       "        1.80651913e+01, -9.40752792e+01,  1.08046524e+02, -5.28087139e+00,\n",
       "       -9.05498657e+01, -1.50516891e+02,  2.29175529e+01,  8.11801529e+01,\n",
       "       -1.30805527e+02, -1.07929688e+01, -1.36573000e+01, -3.13186554e+02,\n",
       "       -6.93810806e+01, -1.08715086e+01, -1.04782272e+02, -3.62986336e+01,\n",
       "        3.58133850e+02, -1.33253613e+01,  4.08508568e+01, -8.90044708e+01,\n",
       "        2.16863800e+02, -6.55539932e+01,  2.90558380e+02,  1.84738556e+02,\n",
       "       -7.34774780e+01, -1.12414902e+02,  1.87916458e+02, -7.19378815e+01,\n",
       "       -1.33305588e+01, -1.01057175e+02,  1.64778320e+02, -8.94077301e+00,\n",
       "        9.47039871e+01,  4.49988327e+01, -1.54862579e+02, -8.75794296e+01,\n",
       "       -1.60002327e+01,  7.03270035e+01,  1.91140900e+02,  1.47347824e+02,\n",
       "        8.52332535e+01, -7.27306290e+01,  2.49138622e+01,  6.75171967e+01,\n",
       "       -1.35953476e+02, -2.24036674e+01,  3.80079651e+00,  2.00895615e+02,\n",
       "       -2.09902328e+02, -7.19766283e+00, -1.56763947e+02, -1.25354988e+02,\n",
       "       -9.29274521e+01,  2.84941998e+01, -3.24757538e+01,  6.62134171e+01,\n",
       "       -3.80886017e+02,  6.54083252e+01, -2.94087982e+02,  2.26193314e+01,\n",
       "        3.66875153e+01,  1.94536533e+01,  8.55195923e+01, -2.00934921e+02,\n",
       "       -4.70836525e+01, -5.15701942e+01,  2.14875641e+02, -1.05546921e+02,\n",
       "       -9.88671265e+01, -4.55608749e+01,  3.90041504e+01,  1.90913528e+02,\n",
       "       -1.57002220e+01, -4.79368782e+01,  2.43825485e+02, -9.14661407e+01,\n",
       "        1.24804573e+02, -3.45853043e+01,  2.35009155e+02,  1.51310532e+02,\n",
       "        5.14445496e+01, -1.41706802e+02, -1.71130615e+02, -1.00130898e+02,\n",
       "        2.95020599e+02,  1.85138226e+00,  6.78232422e+01,  7.72771683e+01,\n",
       "        8.69525986e+01,  2.95620178e+02, -1.85009689e+02,  1.82145874e+02,\n",
       "       -3.02843903e+02, -2.40570084e+02, -9.60590286e+01,  7.40947800e+01,\n",
       "       -3.27554230e+02,  4.42451591e+01, -1.70710922e+02,  2.19211746e+02,\n",
       "       -1.67333145e+02, -1.41570541e+02,  7.61266251e+01, -1.66096924e+02,\n",
       "       -8.35204849e+01, -3.88662949e+01, -1.19890785e+02,  3.05479164e+01,\n",
       "        4.67100048e+00, -1.41794415e+01,  7.72823639e+01,  8.95013733e+01,\n",
       "        1.27492218e+02,  8.41614685e+01,  6.01625023e+01,  1.19747292e+02,\n",
       "       -1.17982628e+02,  1.41425461e+02,  1.77172638e+02,  1.02264702e+02,\n",
       "       -1.29204834e+02, -1.47314835e+02,  1.88275284e+02,  1.09195137e+02,\n",
       "        2.90634632e+01, -2.02159195e+02,  9.16340485e+01, -9.49882965e+01,\n",
       "       -3.79201736e+01, -7.82094421e+01,  3.78583183e+01, -9.03180790e+00,\n",
       "       -4.69693451e+01,  3.22791405e+01,  1.09632126e+02, -3.23274658e+02,\n",
       "        5.24095573e+01,  3.05188568e+02, -1.19492401e+02, -1.90039993e+02,\n",
       "        1.69006546e+02,  1.91083160e+02, -3.76995811e+01, -1.69352570e+02,\n",
       "       -7.03181305e+01, -1.18430433e+01,  1.06470337e+02,  1.60951447e+02,\n",
       "       -1.37629715e+02, -1.56756683e+02,  1.49340424e+02,  1.75569229e+02,\n",
       "       -5.96995811e+01, -1.63542145e+02, -5.83641586e+01,  1.16063599e+02,\n",
       "       -1.16416031e+02, -9.16355209e+01, -1.59390533e+02,  5.99150314e+01,\n",
       "        1.33816391e+02,  2.52644485e+02, -2.35009796e+02, -1.50670563e+02,\n",
       "       -3.70323277e+00, -6.02747297e+00,  8.71488647e+01,  2.31430466e+02,\n",
       "       -1.37802841e+02,  1.89548721e+02,  2.12334198e+02,  9.68132935e+01,\n",
       "        2.62441284e+02,  1.08577843e+02,  1.49010223e+02, -3.58364010e+00,\n",
       "        5.70719299e+01,  2.53786728e+02, -6.72569275e+01,  1.70904984e+02,\n",
       "       -1.71127579e+02, -1.28939713e+02, -8.90260391e+01, -1.88144577e+02,\n",
       "       -4.40102272e+01,  5.61580238e+01,  1.18923279e+02, -1.80418808e+02,\n",
       "        6.80599365e+01, -1.90304169e+02, -1.41866074e+02,  3.95654755e+01,\n",
       "        1.12688243e+00,  2.86671448e+01, -7.41887665e+01,  5.87142487e+01,\n",
       "        1.77163910e+02,  3.98607559e+01, -2.25338715e+02,  2.12414408e+00,\n",
       "       -8.54912949e+00, -1.16446960e+02, -3.06153046e+02, -9.51064529e+01,\n",
       "        9.08863144e+01,  1.20022369e+02, -1.42163887e+01,  2.78584778e+02,\n",
       "        1.98701340e+02,  2.62443878e+02, -2.40533447e+01, -1.63561142e+02,\n",
       "        8.48488312e+01,  4.10926514e+01,  1.20008301e+02, -1.67218208e+01,\n",
       "       -5.03003654e+01, -1.01390656e+02, -1.65751801e+02, -7.81830502e+00,\n",
       "        3.25799438e+02,  6.80429001e+01, -2.25209381e+02, -1.53856308e+02,\n",
       "        1.94604355e+02, -1.48527969e+02, -8.60712242e+00,  3.47949707e+02,\n",
       "       -1.92666645e+01,  9.48660049e+01, -1.72679153e+02, -3.57398956e+02,\n",
       "        9.19436111e+01,  1.02319305e+02, -3.84744186e+01,  2.51292221e+02,\n",
       "        5.27610130e+01, -2.84592819e+01,  1.76850845e+02,  3.89868927e+01,\n",
       "       -1.83688080e+02,  9.30016937e+01,  1.09268837e+01,  6.43913269e+01,\n",
       "       -5.94519196e+01, -7.59348907e+01,  1.76977100e+01, -2.28158478e+02,\n",
       "       -1.69421906e+02, -2.84837524e+02,  1.41846298e+02, -9.69804382e+00,\n",
       "        5.50518188e+01,  1.21282265e+02,  1.37843384e+02,  1.57147842e+02,\n",
       "        7.82851868e+01, -3.90843887e+01, -1.42213182e+01,  2.96005135e+01,\n",
       "        2.70248444e+02, -4.06116600e+01,  9.01541748e+01, -1.94625092e+02,\n",
       "        1.99021820e+02, -2.00717545e+02, -1.75145359e+01,  1.63383575e+02,\n",
       "        2.32046616e+02,  5.76904068e+01,  7.40176468e+01, -2.67414886e+02,\n",
       "        1.23279373e+02, -5.28920531e-01, -2.71792908e+01, -1.64394669e+02,\n",
       "        1.41460739e+02, -1.94899231e+02, -5.44096069e+01, -7.64059372e+01,\n",
       "       -9.55147629e+01, -2.65375481e+01,  1.94329739e+01, -2.63149872e+02,\n",
       "        2.18302956e+01,  1.59636276e+02, -1.50579636e+02, -2.08323181e+02,\n",
       "        5.49147844e+00, -1.55532188e+01, -2.12657059e+02, -2.10953888e+02,\n",
       "        3.99231567e+01, -1.06470734e+02,  2.26068619e+02, -9.54502563e+01,\n",
       "        3.36495056e+01,  1.15348015e+02,  2.22405029e+02,  9.22334595e+01,\n",
       "       -2.21252608e+00, -1.65086865e+00,  7.88810577e+01,  1.27585411e+02,\n",
       "       -1.00126389e+02,  3.02387428e+01, -8.68710098e+01,  1.26538124e+02,\n",
       "       -3.86362553e-01, -1.69354507e+02, -1.91201515e+01,  5.61227379e+01,\n",
       "        1.00312508e+02,  1.63441498e+02, -2.11928009e+02, -4.60259209e+01,\n",
       "        4.40916443e+01, -3.54722626e+02,  1.28123825e+02,  4.23977013e+01,\n",
       "       -3.56909523e+01, -1.02677948e+02,  2.03578453e+01, -3.62808304e+01,\n",
       "       -1.20422180e+02, -5.41799889e+01,  1.71057358e+02,  5.38001709e+01,\n",
       "       -5.06528091e+00, -1.52151642e+02,  1.23707829e+01, -1.03753380e+02,\n",
       "        2.65950584e+01, -2.07441769e+01, -1.24570534e+02, -3.06229736e+02,\n",
       "       -9.90426941e+01, -2.91114288e+02, -1.29927567e+02,  1.36862457e+02,\n",
       "       -1.11024269e+02,  1.31665375e+02, -4.37347984e+01, -6.56427765e+01,\n",
       "       -1.95027046e+01,  1.12416143e+01, -3.53033600e+01,  7.57594986e+01,\n",
       "        3.55366364e+01, -1.06869377e+02,  4.53621101e+01,  1.14077980e+02,\n",
       "       -7.06828613e+01, -8.44560394e+01,  6.72469101e+01, -6.90436935e+01,\n",
       "        7.92209015e+01, -5.58079300e+01,  8.59812241e+01, -3.85684357e+01,\n",
       "        4.83483162e+01, -3.15428711e+02,  2.18562794e+01, -7.44520473e+00,\n",
       "        2.34405914e+02, -2.38303680e+01,  1.07622574e+02, -1.09685982e+02,\n",
       "        1.08620811e+02,  2.09875717e+02,  1.88868500e+02, -3.25307579e+01,\n",
       "       -7.11834030e+01, -1.67568527e+02, -2.62229385e+01, -5.41685143e+01,\n",
       "       -2.49262295e+01, -1.28178391e+02,  2.47000904e+01,  2.64633087e+02,\n",
       "       -4.91234131e+01, -6.71038151e+00, -2.19332657e+02, -1.86396923e+01,\n",
       "        2.19995255e+02, -1.25065708e+01, -1.06674137e+01, -2.68898071e+02,\n",
       "       -4.68780289e+01,  3.72622528e+02, -1.21231934e+02,  1.29831009e+02,\n",
       "       -1.39132299e+01,  1.28673492e+02, -1.60294418e+02, -6.21366844e+01,\n",
       "       -5.34483833e+01, -3.87244148e+01,  9.81924210e+01, -2.50008759e+02,\n",
       "        2.47303802e+02,  2.13613281e+01, -2.07159332e+02, -8.44980240e+01,\n",
       "       -1.88465271e+01,  4.75393860e+02,  1.76044662e+02,  4.08440590e+01,\n",
       "       -1.50496490e+02,  3.21786094e+00, -2.35995239e+02, -2.49812744e+02,\n",
       "        3.36384583e+02,  7.28150482e+01, -8.92809963e+00, -3.07128662e+02,\n",
       "        1.53903519e+02,  1.15501732e+02, -2.61675205e+01,  3.66136169e+01,\n",
       "        2.71209991e+02, -3.91245422e+01,  6.92001953e+01,  3.71341980e+02,\n",
       "        7.69446716e+01, -4.38088341e+01,  2.67578491e+02, -2.32744049e+02],\n",
       "      dtype=float32)"
      ]
     },
     "execution_count": 18,
     "metadata": {},
     "output_type": "execute_result"
    }
   ],
   "source": [
    "from xgboost import XGBRegressor\n",
    "classifier = XGBRegressor()\n",
    "classifier.fit(X_train ,y_train)\n",
    "y_pred =classifier.predict(X_test)\n",
    "y_pred"
   ]
  },
  {
   "cell_type": "code",
   "execution_count": 19,
   "id": "b75cb1d4-eec7-4963-9e95-ced1165e1a31",
   "metadata": {},
   "outputs": [
    {
     "name": "stdout",
     "output_type": "stream",
     "text": [
      "0.8362608636937139\n"
     ]
    }
   ],
   "source": [
    "from sklearn.metrics import r2_score\n",
    "print(r2_score(y_test ,y_pred))"
   ]
  },
  {
   "cell_type": "markdown",
   "id": "e97c8d8c-2f5c-45bf-b126-77f5c6d47a33",
   "metadata": {},
   "source": [
    "hyperparameter tunning"
   ]
  },
  {
   "cell_type": "code",
   "execution_count": 20,
   "id": "15b4b8f6-7ac9-4e4d-8b24-505c53f2c85a",
   "metadata": {},
   "outputs": [],
   "source": [
    "from sklearn.model_selection import GridSearchCV\n",
    "param_grid ={\"n_estimators\":[100,150],\n",
    "            \"learning_rate\":[0.001,0.1,1],\n",
    "            \"loss\":[\"squared_error\",\"absolute_error\"]}\n",
    "grad =XGBRegressor()"
   ]
  },
  {
   "cell_type": "code",
   "execution_count": 21,
   "id": "7af4edce-af6a-42c8-b418-a644760393da",
   "metadata": {},
   "outputs": [],
   "source": [
    "clf =GridSearchCV(estimator=grad ,param_grid=param_grid ,cv =5,verbose=3)"
   ]
  },
  {
   "cell_type": "code",
   "execution_count": 22,
   "id": "85287cd6-9519-47f6-b0d7-434b44289d0d",
   "metadata": {},
   "outputs": [
    {
     "name": "stdout",
     "output_type": "stream",
     "text": [
      "Fitting 5 folds for each of 12 candidates, totalling 60 fits\n",
      "[CV 1/5] END learning_rate=0.001, loss=squared_error, n_estimators=100;, score=0.102 total time=   7.0s\n",
      "[CV 2/5] END learning_rate=0.001, loss=squared_error, n_estimators=100;, score=0.100 total time=   3.7s\n",
      "[CV 3/5] END learning_rate=0.001, loss=squared_error, n_estimators=100;, score=0.094 total time=   5.2s\n",
      "[CV 4/5] END learning_rate=0.001, loss=squared_error, n_estimators=100;, score=0.093 total time=   6.2s\n",
      "[CV 5/5] END learning_rate=0.001, loss=squared_error, n_estimators=100;, score=0.103 total time=   4.7s\n",
      "[CV 1/5] END learning_rate=0.001, loss=squared_error, n_estimators=150;, score=0.147 total time=   9.1s\n",
      "[CV 2/5] END learning_rate=0.001, loss=squared_error, n_estimators=150;, score=0.144 total time=  11.5s\n",
      "[CV 3/5] END learning_rate=0.001, loss=squared_error, n_estimators=150;, score=0.137 total time=   6.5s\n",
      "[CV 4/5] END learning_rate=0.001, loss=squared_error, n_estimators=150;, score=0.134 total time=   8.6s\n",
      "[CV 5/5] END learning_rate=0.001, loss=squared_error, n_estimators=150;, score=0.147 total time=   5.1s\n",
      "[CV 1/5] END learning_rate=0.001, loss=absolute_error, n_estimators=100;, score=0.102 total time=   4.7s\n",
      "[CV 2/5] END learning_rate=0.001, loss=absolute_error, n_estimators=100;, score=0.100 total time=   4.6s\n",
      "[CV 3/5] END learning_rate=0.001, loss=absolute_error, n_estimators=100;, score=0.094 total time=   3.6s\n",
      "[CV 4/5] END learning_rate=0.001, loss=absolute_error, n_estimators=100;, score=0.093 total time=   6.0s\n",
      "[CV 5/5] END learning_rate=0.001, loss=absolute_error, n_estimators=100;, score=0.103 total time=   6.1s\n",
      "[CV 1/5] END learning_rate=0.001, loss=absolute_error, n_estimators=150;, score=0.147 total time=   9.9s\n",
      "[CV 2/5] END learning_rate=0.001, loss=absolute_error, n_estimators=150;, score=0.144 total time=  13.8s\n",
      "[CV 3/5] END learning_rate=0.001, loss=absolute_error, n_estimators=150;, score=0.137 total time=   9.3s\n",
      "[CV 4/5] END learning_rate=0.001, loss=absolute_error, n_estimators=150;, score=0.134 total time=  10.1s\n",
      "[CV 5/5] END learning_rate=0.001, loss=absolute_error, n_estimators=150;, score=0.147 total time=   7.4s\n",
      "[CV 1/5] END learning_rate=0.1, loss=squared_error, n_estimators=100;, score=0.849 total time=   8.3s\n",
      "[CV 2/5] END learning_rate=0.1, loss=squared_error, n_estimators=100;, score=0.851 total time=   7.5s\n",
      "[CV 3/5] END learning_rate=0.1, loss=squared_error, n_estimators=100;, score=0.849 total time=   7.4s\n",
      "[CV 4/5] END learning_rate=0.1, loss=squared_error, n_estimators=100;, score=0.821 total time=   6.1s\n",
      "[CV 5/5] END learning_rate=0.1, loss=squared_error, n_estimators=100;, score=0.851 total time=   5.3s\n",
      "[CV 1/5] END learning_rate=0.1, loss=squared_error, n_estimators=150;, score=0.851 total time=   7.6s\n",
      "[CV 2/5] END learning_rate=0.1, loss=squared_error, n_estimators=150;, score=0.853 total time=   8.1s\n",
      "[CV 3/5] END learning_rate=0.1, loss=squared_error, n_estimators=150;, score=0.851 total time=   8.5s\n",
      "[CV 4/5] END learning_rate=0.1, loss=squared_error, n_estimators=150;, score=0.823 total time=  10.1s\n",
      "[CV 5/5] END learning_rate=0.1, loss=squared_error, n_estimators=150;, score=0.853 total time=  11.0s\n",
      "[CV 1/5] END learning_rate=0.1, loss=absolute_error, n_estimators=100;, score=0.849 total time=   4.6s\n",
      "[CV 2/5] END learning_rate=0.1, loss=absolute_error, n_estimators=100;, score=0.851 total time=   6.8s\n",
      "[CV 3/5] END learning_rate=0.1, loss=absolute_error, n_estimators=100;, score=0.849 total time=   5.2s\n",
      "[CV 4/5] END learning_rate=0.1, loss=absolute_error, n_estimators=100;, score=0.821 total time=   6.0s\n",
      "[CV 5/5] END learning_rate=0.1, loss=absolute_error, n_estimators=100;, score=0.851 total time=   6.3s\n",
      "[CV 1/5] END learning_rate=0.1, loss=absolute_error, n_estimators=150;, score=0.851 total time=   9.4s\n",
      "[CV 2/5] END learning_rate=0.1, loss=absolute_error, n_estimators=150;, score=0.853 total time=   9.6s\n",
      "[CV 3/5] END learning_rate=0.1, loss=absolute_error, n_estimators=150;, score=0.851 total time=  10.0s\n",
      "[CV 4/5] END learning_rate=0.1, loss=absolute_error, n_estimators=150;, score=0.823 total time=   9.2s\n",
      "[CV 5/5] END learning_rate=0.1, loss=absolute_error, n_estimators=150;, score=0.853 total time=   8.6s\n",
      "[CV 1/5] END learning_rate=1, loss=squared_error, n_estimators=100;, score=0.504 total time=   5.6s\n",
      "[CV 2/5] END learning_rate=1, loss=squared_error, n_estimators=100;, score=0.484 total time=   4.0s\n",
      "[CV 3/5] END learning_rate=1, loss=squared_error, n_estimators=100;, score=0.471 total time=   4.5s\n",
      "[CV 4/5] END learning_rate=1, loss=squared_error, n_estimators=100;, score=0.437 total time=   5.3s\n",
      "[CV 5/5] END learning_rate=1, loss=squared_error, n_estimators=100;, score=0.538 total time=   5.3s\n",
      "[CV 1/5] END learning_rate=1, loss=squared_error, n_estimators=150;, score=0.504 total time=   5.1s\n",
      "[CV 2/5] END learning_rate=1, loss=squared_error, n_estimators=150;, score=0.484 total time=   3.5s\n",
      "[CV 3/5] END learning_rate=1, loss=squared_error, n_estimators=150;, score=0.471 total time=   4.3s\n",
      "[CV 4/5] END learning_rate=1, loss=squared_error, n_estimators=150;, score=0.437 total time=   6.1s\n",
      "[CV 5/5] END learning_rate=1, loss=squared_error, n_estimators=150;, score=0.538 total time=   5.2s\n",
      "[CV 1/5] END learning_rate=1, loss=absolute_error, n_estimators=100;, score=0.504 total time=   5.7s\n",
      "[CV 2/5] END learning_rate=1, loss=absolute_error, n_estimators=100;, score=0.484 total time=   4.9s\n",
      "[CV 3/5] END learning_rate=1, loss=absolute_error, n_estimators=100;, score=0.471 total time=   5.6s\n",
      "[CV 4/5] END learning_rate=1, loss=absolute_error, n_estimators=100;, score=0.437 total time=   4.7s\n",
      "[CV 5/5] END learning_rate=1, loss=absolute_error, n_estimators=100;, score=0.538 total time=   4.5s\n",
      "[CV 1/5] END learning_rate=1, loss=absolute_error, n_estimators=150;, score=0.504 total time=   5.4s\n",
      "[CV 2/5] END learning_rate=1, loss=absolute_error, n_estimators=150;, score=0.484 total time=   5.8s\n",
      "[CV 3/5] END learning_rate=1, loss=absolute_error, n_estimators=150;, score=0.471 total time=   6.3s\n",
      "[CV 4/5] END learning_rate=1, loss=absolute_error, n_estimators=150;, score=0.437 total time=   4.8s\n",
      "[CV 5/5] END learning_rate=1, loss=absolute_error, n_estimators=150;, score=0.538 total time=   5.6s\n"
     ]
    },
    {
     "data": {
      "text/html": [
       "<style>#sk-container-id-1 {color: black;background-color: white;}#sk-container-id-1 pre{padding: 0;}#sk-container-id-1 div.sk-toggleable {background-color: white;}#sk-container-id-1 label.sk-toggleable__label {cursor: pointer;display: block;width: 100%;margin-bottom: 0;padding: 0.3em;box-sizing: border-box;text-align: center;}#sk-container-id-1 label.sk-toggleable__label-arrow:before {content: \"▸\";float: left;margin-right: 0.25em;color: #696969;}#sk-container-id-1 label.sk-toggleable__label-arrow:hover:before {color: black;}#sk-container-id-1 div.sk-estimator:hover label.sk-toggleable__label-arrow:before {color: black;}#sk-container-id-1 div.sk-toggleable__content {max-height: 0;max-width: 0;overflow: hidden;text-align: left;background-color: #f0f8ff;}#sk-container-id-1 div.sk-toggleable__content pre {margin: 0.2em;color: black;border-radius: 0.25em;background-color: #f0f8ff;}#sk-container-id-1 input.sk-toggleable__control:checked~div.sk-toggleable__content {max-height: 200px;max-width: 100%;overflow: auto;}#sk-container-id-1 input.sk-toggleable__control:checked~label.sk-toggleable__label-arrow:before {content: \"▾\";}#sk-container-id-1 div.sk-estimator input.sk-toggleable__control:checked~label.sk-toggleable__label {background-color: #d4ebff;}#sk-container-id-1 div.sk-label input.sk-toggleable__control:checked~label.sk-toggleable__label {background-color: #d4ebff;}#sk-container-id-1 input.sk-hidden--visually {border: 0;clip: rect(1px 1px 1px 1px);clip: rect(1px, 1px, 1px, 1px);height: 1px;margin: -1px;overflow: hidden;padding: 0;position: absolute;width: 1px;}#sk-container-id-1 div.sk-estimator {font-family: monospace;background-color: #f0f8ff;border: 1px dotted black;border-radius: 0.25em;box-sizing: border-box;margin-bottom: 0.5em;}#sk-container-id-1 div.sk-estimator:hover {background-color: #d4ebff;}#sk-container-id-1 div.sk-parallel-item::after {content: \"\";width: 100%;border-bottom: 1px solid gray;flex-grow: 1;}#sk-container-id-1 div.sk-label:hover label.sk-toggleable__label {background-color: #d4ebff;}#sk-container-id-1 div.sk-serial::before {content: \"\";position: absolute;border-left: 1px solid gray;box-sizing: border-box;top: 0;bottom: 0;left: 50%;z-index: 0;}#sk-container-id-1 div.sk-serial {display: flex;flex-direction: column;align-items: center;background-color: white;padding-right: 0.2em;padding-left: 0.2em;position: relative;}#sk-container-id-1 div.sk-item {position: relative;z-index: 1;}#sk-container-id-1 div.sk-parallel {display: flex;align-items: stretch;justify-content: center;background-color: white;position: relative;}#sk-container-id-1 div.sk-item::before, #sk-container-id-1 div.sk-parallel-item::before {content: \"\";position: absolute;border-left: 1px solid gray;box-sizing: border-box;top: 0;bottom: 0;left: 50%;z-index: -1;}#sk-container-id-1 div.sk-parallel-item {display: flex;flex-direction: column;z-index: 1;position: relative;background-color: white;}#sk-container-id-1 div.sk-parallel-item:first-child::after {align-self: flex-end;width: 50%;}#sk-container-id-1 div.sk-parallel-item:last-child::after {align-self: flex-start;width: 50%;}#sk-container-id-1 div.sk-parallel-item:only-child::after {width: 0;}#sk-container-id-1 div.sk-dashed-wrapped {border: 1px dashed gray;margin: 0 0.4em 0.5em 0.4em;box-sizing: border-box;padding-bottom: 0.4em;background-color: white;}#sk-container-id-1 div.sk-label label {font-family: monospace;font-weight: bold;display: inline-block;line-height: 1.2em;}#sk-container-id-1 div.sk-label-container {text-align: center;}#sk-container-id-1 div.sk-container {/* jupyter's `normalize.less` sets `[hidden] { display: none; }` but bootstrap.min.css set `[hidden] { display: none !important; }` so we also need the `!important` here to be able to override the default hidden behavior on the sphinx rendered scikit-learn.org. See: https://github.com/scikit-learn/scikit-learn/issues/21755 */display: inline-block !important;position: relative;}#sk-container-id-1 div.sk-text-repr-fallback {display: none;}</style><div id=\"sk-container-id-1\" class=\"sk-top-container\"><div class=\"sk-text-repr-fallback\"><pre>GridSearchCV(cv=5,\n",
       "             estimator=XGBRegressor(base_score=None, booster=None,\n",
       "                                    callbacks=None, colsample_bylevel=None,\n",
       "                                    colsample_bynode=None,\n",
       "                                    colsample_bytree=None, device=None,\n",
       "                                    early_stopping_rounds=None,\n",
       "                                    enable_categorical=False, eval_metric=None,\n",
       "                                    feature_types=None, gamma=None,\n",
       "                                    grow_policy=None, importance_type=None,\n",
       "                                    interaction_constraints=None,\n",
       "                                    learning_rate=None, m...\n",
       "                                    max_cat_to_onehot=None, max_delta_step=None,\n",
       "                                    max_depth=None, max_leaves=None,\n",
       "                                    min_child_weight=None, missing=nan,\n",
       "                                    monotone_constraints=None,\n",
       "                                    multi_strategy=None, n_estimators=None,\n",
       "                                    n_jobs=None, num_parallel_tree=None,\n",
       "                                    random_state=None, ...),\n",
       "             param_grid={&#x27;learning_rate&#x27;: [0.001, 0.1, 1],\n",
       "                         &#x27;loss&#x27;: [&#x27;squared_error&#x27;, &#x27;absolute_error&#x27;],\n",
       "                         &#x27;n_estimators&#x27;: [100, 150]},\n",
       "             verbose=3)</pre><b>In a Jupyter environment, please rerun this cell to show the HTML representation or trust the notebook. <br />On GitHub, the HTML representation is unable to render, please try loading this page with nbviewer.org.</b></div><div class=\"sk-container\" hidden><div class=\"sk-item sk-dashed-wrapped\"><div class=\"sk-label-container\"><div class=\"sk-label sk-toggleable\"><input class=\"sk-toggleable__control sk-hidden--visually\" id=\"sk-estimator-id-1\" type=\"checkbox\" ><label for=\"sk-estimator-id-1\" class=\"sk-toggleable__label sk-toggleable__label-arrow\">GridSearchCV</label><div class=\"sk-toggleable__content\"><pre>GridSearchCV(cv=5,\n",
       "             estimator=XGBRegressor(base_score=None, booster=None,\n",
       "                                    callbacks=None, colsample_bylevel=None,\n",
       "                                    colsample_bynode=None,\n",
       "                                    colsample_bytree=None, device=None,\n",
       "                                    early_stopping_rounds=None,\n",
       "                                    enable_categorical=False, eval_metric=None,\n",
       "                                    feature_types=None, gamma=None,\n",
       "                                    grow_policy=None, importance_type=None,\n",
       "                                    interaction_constraints=None,\n",
       "                                    learning_rate=None, m...\n",
       "                                    max_cat_to_onehot=None, max_delta_step=None,\n",
       "                                    max_depth=None, max_leaves=None,\n",
       "                                    min_child_weight=None, missing=nan,\n",
       "                                    monotone_constraints=None,\n",
       "                                    multi_strategy=None, n_estimators=None,\n",
       "                                    n_jobs=None, num_parallel_tree=None,\n",
       "                                    random_state=None, ...),\n",
       "             param_grid={&#x27;learning_rate&#x27;: [0.001, 0.1, 1],\n",
       "                         &#x27;loss&#x27;: [&#x27;squared_error&#x27;, &#x27;absolute_error&#x27;],\n",
       "                         &#x27;n_estimators&#x27;: [100, 150]},\n",
       "             verbose=3)</pre></div></div></div><div class=\"sk-parallel\"><div class=\"sk-parallel-item\"><div class=\"sk-item\"><div class=\"sk-label-container\"><div class=\"sk-label sk-toggleable\"><input class=\"sk-toggleable__control sk-hidden--visually\" id=\"sk-estimator-id-2\" type=\"checkbox\" ><label for=\"sk-estimator-id-2\" class=\"sk-toggleable__label sk-toggleable__label-arrow\">estimator: XGBRegressor</label><div class=\"sk-toggleable__content\"><pre>XGBRegressor(base_score=None, booster=None, callbacks=None,\n",
       "             colsample_bylevel=None, colsample_bynode=None,\n",
       "             colsample_bytree=None, device=None, early_stopping_rounds=None,\n",
       "             enable_categorical=False, eval_metric=None, feature_types=None,\n",
       "             gamma=None, grow_policy=None, importance_type=None,\n",
       "             interaction_constraints=None, learning_rate=None, max_bin=None,\n",
       "             max_cat_threshold=None, max_cat_to_onehot=None,\n",
       "             max_delta_step=None, max_depth=None, max_leaves=None,\n",
       "             min_child_weight=None, missing=nan, monotone_constraints=None,\n",
       "             multi_strategy=None, n_estimators=None, n_jobs=None,\n",
       "             num_parallel_tree=None, random_state=None, ...)</pre></div></div></div><div class=\"sk-serial\"><div class=\"sk-item\"><div class=\"sk-estimator sk-toggleable\"><input class=\"sk-toggleable__control sk-hidden--visually\" id=\"sk-estimator-id-3\" type=\"checkbox\" ><label for=\"sk-estimator-id-3\" class=\"sk-toggleable__label sk-toggleable__label-arrow\">XGBRegressor</label><div class=\"sk-toggleable__content\"><pre>XGBRegressor(base_score=None, booster=None, callbacks=None,\n",
       "             colsample_bylevel=None, colsample_bynode=None,\n",
       "             colsample_bytree=None, device=None, early_stopping_rounds=None,\n",
       "             enable_categorical=False, eval_metric=None, feature_types=None,\n",
       "             gamma=None, grow_policy=None, importance_type=None,\n",
       "             interaction_constraints=None, learning_rate=None, max_bin=None,\n",
       "             max_cat_threshold=None, max_cat_to_onehot=None,\n",
       "             max_delta_step=None, max_depth=None, max_leaves=None,\n",
       "             min_child_weight=None, missing=nan, monotone_constraints=None,\n",
       "             multi_strategy=None, n_estimators=None, n_jobs=None,\n",
       "             num_parallel_tree=None, random_state=None, ...)</pre></div></div></div></div></div></div></div></div></div></div>"
      ],
      "text/plain": [
       "GridSearchCV(cv=5,\n",
       "             estimator=XGBRegressor(base_score=None, booster=None,\n",
       "                                    callbacks=None, colsample_bylevel=None,\n",
       "                                    colsample_bynode=None,\n",
       "                                    colsample_bytree=None, device=None,\n",
       "                                    early_stopping_rounds=None,\n",
       "                                    enable_categorical=False, eval_metric=None,\n",
       "                                    feature_types=None, gamma=None,\n",
       "                                    grow_policy=None, importance_type=None,\n",
       "                                    interaction_constraints=None,\n",
       "                                    learning_rate=None, m...\n",
       "                                    max_cat_to_onehot=None, max_delta_step=None,\n",
       "                                    max_depth=None, max_leaves=None,\n",
       "                                    min_child_weight=None, missing=nan,\n",
       "                                    monotone_constraints=None,\n",
       "                                    multi_strategy=None, n_estimators=None,\n",
       "                                    n_jobs=None, num_parallel_tree=None,\n",
       "                                    random_state=None, ...),\n",
       "             param_grid={'learning_rate': [0.001, 0.1, 1],\n",
       "                         'loss': ['squared_error', 'absolute_error'],\n",
       "                         'n_estimators': [100, 150]},\n",
       "             verbose=3)"
      ]
     },
     "execution_count": 22,
     "metadata": {},
     "output_type": "execute_result"
    }
   ],
   "source": [
    "clf.fit(X_train ,y_train)"
   ]
  },
  {
   "cell_type": "code",
   "execution_count": 23,
   "id": "0ec58997-c1eb-4321-be03-8236736c9bd1",
   "metadata": {},
   "outputs": [
    {
     "data": {
      "text/html": [
       "<style>#sk-container-id-2 {color: black;background-color: white;}#sk-container-id-2 pre{padding: 0;}#sk-container-id-2 div.sk-toggleable {background-color: white;}#sk-container-id-2 label.sk-toggleable__label {cursor: pointer;display: block;width: 100%;margin-bottom: 0;padding: 0.3em;box-sizing: border-box;text-align: center;}#sk-container-id-2 label.sk-toggleable__label-arrow:before {content: \"▸\";float: left;margin-right: 0.25em;color: #696969;}#sk-container-id-2 label.sk-toggleable__label-arrow:hover:before {color: black;}#sk-container-id-2 div.sk-estimator:hover label.sk-toggleable__label-arrow:before {color: black;}#sk-container-id-2 div.sk-toggleable__content {max-height: 0;max-width: 0;overflow: hidden;text-align: left;background-color: #f0f8ff;}#sk-container-id-2 div.sk-toggleable__content pre {margin: 0.2em;color: black;border-radius: 0.25em;background-color: #f0f8ff;}#sk-container-id-2 input.sk-toggleable__control:checked~div.sk-toggleable__content {max-height: 200px;max-width: 100%;overflow: auto;}#sk-container-id-2 input.sk-toggleable__control:checked~label.sk-toggleable__label-arrow:before {content: \"▾\";}#sk-container-id-2 div.sk-estimator input.sk-toggleable__control:checked~label.sk-toggleable__label {background-color: #d4ebff;}#sk-container-id-2 div.sk-label input.sk-toggleable__control:checked~label.sk-toggleable__label {background-color: #d4ebff;}#sk-container-id-2 input.sk-hidden--visually {border: 0;clip: rect(1px 1px 1px 1px);clip: rect(1px, 1px, 1px, 1px);height: 1px;margin: -1px;overflow: hidden;padding: 0;position: absolute;width: 1px;}#sk-container-id-2 div.sk-estimator {font-family: monospace;background-color: #f0f8ff;border: 1px dotted black;border-radius: 0.25em;box-sizing: border-box;margin-bottom: 0.5em;}#sk-container-id-2 div.sk-estimator:hover {background-color: #d4ebff;}#sk-container-id-2 div.sk-parallel-item::after {content: \"\";width: 100%;border-bottom: 1px solid gray;flex-grow: 1;}#sk-container-id-2 div.sk-label:hover label.sk-toggleable__label {background-color: #d4ebff;}#sk-container-id-2 div.sk-serial::before {content: \"\";position: absolute;border-left: 1px solid gray;box-sizing: border-box;top: 0;bottom: 0;left: 50%;z-index: 0;}#sk-container-id-2 div.sk-serial {display: flex;flex-direction: column;align-items: center;background-color: white;padding-right: 0.2em;padding-left: 0.2em;position: relative;}#sk-container-id-2 div.sk-item {position: relative;z-index: 1;}#sk-container-id-2 div.sk-parallel {display: flex;align-items: stretch;justify-content: center;background-color: white;position: relative;}#sk-container-id-2 div.sk-item::before, #sk-container-id-2 div.sk-parallel-item::before {content: \"\";position: absolute;border-left: 1px solid gray;box-sizing: border-box;top: 0;bottom: 0;left: 50%;z-index: -1;}#sk-container-id-2 div.sk-parallel-item {display: flex;flex-direction: column;z-index: 1;position: relative;background-color: white;}#sk-container-id-2 div.sk-parallel-item:first-child::after {align-self: flex-end;width: 50%;}#sk-container-id-2 div.sk-parallel-item:last-child::after {align-self: flex-start;width: 50%;}#sk-container-id-2 div.sk-parallel-item:only-child::after {width: 0;}#sk-container-id-2 div.sk-dashed-wrapped {border: 1px dashed gray;margin: 0 0.4em 0.5em 0.4em;box-sizing: border-box;padding-bottom: 0.4em;background-color: white;}#sk-container-id-2 div.sk-label label {font-family: monospace;font-weight: bold;display: inline-block;line-height: 1.2em;}#sk-container-id-2 div.sk-label-container {text-align: center;}#sk-container-id-2 div.sk-container {/* jupyter's `normalize.less` sets `[hidden] { display: none; }` but bootstrap.min.css set `[hidden] { display: none !important; }` so we also need the `!important` here to be able to override the default hidden behavior on the sphinx rendered scikit-learn.org. See: https://github.com/scikit-learn/scikit-learn/issues/21755 */display: inline-block !important;position: relative;}#sk-container-id-2 div.sk-text-repr-fallback {display: none;}</style><div id=\"sk-container-id-2\" class=\"sk-top-container\"><div class=\"sk-text-repr-fallback\"><pre>XGBRegressor(base_score=None, booster=None, callbacks=None,\n",
       "             colsample_bylevel=None, colsample_bynode=None,\n",
       "             colsample_bytree=None, device=None, early_stopping_rounds=None,\n",
       "             enable_categorical=False, eval_metric=None, feature_types=None,\n",
       "             gamma=None, grow_policy=None, importance_type=None,\n",
       "             interaction_constraints=None, learning_rate=0.1,\n",
       "             loss=&#x27;squared_error&#x27;, max_bin=None, max_cat_threshold=None,\n",
       "             max_cat_to_onehot=None, max_delta_step=None, max_depth=None,\n",
       "             max_leaves=None, min_child_weight=None, missing=nan,\n",
       "             monotone_constraints=None, multi_strategy=None, n_estimators=150,\n",
       "             n_jobs=None, num_parallel_tree=None, ...)</pre><b>In a Jupyter environment, please rerun this cell to show the HTML representation or trust the notebook. <br />On GitHub, the HTML representation is unable to render, please try loading this page with nbviewer.org.</b></div><div class=\"sk-container\" hidden><div class=\"sk-item\"><div class=\"sk-estimator sk-toggleable\"><input class=\"sk-toggleable__control sk-hidden--visually\" id=\"sk-estimator-id-4\" type=\"checkbox\" checked><label for=\"sk-estimator-id-4\" class=\"sk-toggleable__label sk-toggleable__label-arrow\">XGBRegressor</label><div class=\"sk-toggleable__content\"><pre>XGBRegressor(base_score=None, booster=None, callbacks=None,\n",
       "             colsample_bylevel=None, colsample_bynode=None,\n",
       "             colsample_bytree=None, device=None, early_stopping_rounds=None,\n",
       "             enable_categorical=False, eval_metric=None, feature_types=None,\n",
       "             gamma=None, grow_policy=None, importance_type=None,\n",
       "             interaction_constraints=None, learning_rate=0.1,\n",
       "             loss=&#x27;squared_error&#x27;, max_bin=None, max_cat_threshold=None,\n",
       "             max_cat_to_onehot=None, max_delta_step=None, max_depth=None,\n",
       "             max_leaves=None, min_child_weight=None, missing=nan,\n",
       "             monotone_constraints=None, multi_strategy=None, n_estimators=150,\n",
       "             n_jobs=None, num_parallel_tree=None, ...)</pre></div></div></div></div></div>"
      ],
      "text/plain": [
       "XGBRegressor(base_score=None, booster=None, callbacks=None,\n",
       "             colsample_bylevel=None, colsample_bynode=None,\n",
       "             colsample_bytree=None, device=None, early_stopping_rounds=None,\n",
       "             enable_categorical=False, eval_metric=None, feature_types=None,\n",
       "             gamma=None, grow_policy=None, importance_type=None,\n",
       "             interaction_constraints=None, learning_rate=0.1,\n",
       "             loss='squared_error', max_bin=None, max_cat_threshold=None,\n",
       "             max_cat_to_onehot=None, max_delta_step=None, max_depth=None,\n",
       "             max_leaves=None, min_child_weight=None, missing=nan,\n",
       "             monotone_constraints=None, multi_strategy=None, n_estimators=150,\n",
       "             n_jobs=None, num_parallel_tree=None, ...)"
      ]
     },
     "execution_count": 23,
     "metadata": {},
     "output_type": "execute_result"
    }
   ],
   "source": [
    "clf.best_estimator_"
   ]
  },
  {
   "cell_type": "code",
   "execution_count": 24,
   "id": "81e90a4b-8948-4669-bfcc-95912b788bd1",
   "metadata": {},
   "outputs": [
    {
     "data": {
      "text/plain": [
       "0.846322530347963"
      ]
     },
     "execution_count": 24,
     "metadata": {},
     "output_type": "execute_result"
    }
   ],
   "source": [
    "clf.best_score_"
   ]
  },
  {
   "cell_type": "code",
   "execution_count": null,
   "id": "1e3a9b4a-3eb1-40f0-800d-9f72c18dc37b",
   "metadata": {},
   "outputs": [],
   "source": []
  },
  {
   "cell_type": "code",
   "execution_count": null,
   "id": "a21675a0-76c5-4a90-b902-6dd06cb64ccb",
   "metadata": {},
   "outputs": [],
   "source": []
  }
 ],
 "metadata": {
  "kernelspec": {
   "display_name": "Python 3 (ipykernel)",
   "language": "python",
   "name": "python3"
  },
  "language_info": {
   "codemirror_mode": {
    "name": "ipython",
    "version": 3
   },
   "file_extension": ".py",
   "mimetype": "text/x-python",
   "name": "python",
   "nbconvert_exporter": "python",
   "pygments_lexer": "ipython3",
   "version": "3.10.8"
  }
 },
 "nbformat": 4,
 "nbformat_minor": 5
}
