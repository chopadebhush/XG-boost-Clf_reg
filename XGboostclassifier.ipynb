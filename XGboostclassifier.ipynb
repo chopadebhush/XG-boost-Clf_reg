{
 "cells": [
  {
   "cell_type": "markdown",
   "id": "8e1be16c-85b5-493c-bfaa-b0975030126d",
   "metadata": {},
   "source": [
    "Import necessary library"
   ]
  },
  {
   "cell_type": "code",
   "execution_count": 1,
   "id": "3e6c0757-316e-4ab8-91bc-1b0d7937093a",
   "metadata": {},
   "outputs": [],
   "source": [
    "import pandas as pd\n",
    "import numpy as np\n",
    "import matplotlib.pyplot as plt\n",
    "import seaborn as sns\n",
    "import warnings\n",
    "warnings.filterwarnings(\"ignore\")"
   ]
  },
  {
   "cell_type": "code",
   "execution_count": 2,
   "id": "fe464667-9313-439f-97be-fb5629aa8835",
   "metadata": {},
   "outputs": [],
   "source": [
    "from sklearn.datasets import make_classification\n",
    "X ,y =make_classification(n_samples=2000,n_classes=2,random_state=1)"
   ]
  },
  {
   "cell_type": "code",
   "execution_count": 3,
   "id": "9248fff9-9d73-496d-b0a8-45591ee64903",
   "metadata": {},
   "outputs": [
    {
     "data": {
      "text/plain": [
       "array([[-0.62070677,  1.39769519,  0.1034997 , ..., -0.34409714,\n",
       "         0.62197727,  1.95988272],\n",
       "       [ 0.90592186,  1.9199751 , -0.7783715 , ..., -1.30560469,\n",
       "        -1.54476766, -0.24532071],\n",
       "       [ 0.27902104,  0.85887666,  1.20780417, ...,  2.50374447,\n",
       "        -0.16497195,  0.4694019 ],\n",
       "       ...,\n",
       "       [ 0.40426899, -0.61988039,  0.87588292, ...,  0.61529851,\n",
       "         0.97573222, -0.44106879],\n",
       "       [-0.02512151, -1.05618212, -0.2345739 , ..., -1.6839064 ,\n",
       "        -0.33327389, -0.67962089],\n",
       "       [-1.46739126, -0.12314487,  0.66858242, ...,  1.92945851,\n",
       "        -0.97878106,  1.68813888]])"
      ]
     },
     "execution_count": 3,
     "metadata": {},
     "output_type": "execute_result"
    }
   ],
   "source": [
    "X"
   ]
  },
  {
   "cell_type": "code",
   "execution_count": 4,
   "id": "ce789985-0b9f-4398-a0dc-bd49cb76bcd4",
   "metadata": {},
   "outputs": [
    {
     "data": {
      "text/plain": [
       "array([1, 0, 1, ..., 0, 0, 1])"
      ]
     },
     "execution_count": 4,
     "metadata": {},
     "output_type": "execute_result"
    }
   ],
   "source": [
    "y"
   ]
  },
  {
   "cell_type": "code",
   "execution_count": 5,
   "id": "d5d97c08-f387-444b-941f-e89d177d3042",
   "metadata": {},
   "outputs": [],
   "source": [
    "from sklearn.model_selection import train_test_split\n",
    "X_train ,X_test ,y_train ,y_test =train_test_split(X,y,test_size=0.3,random_state=12)"
   ]
  },
  {
   "cell_type": "code",
   "execution_count": 6,
   "id": "b5fa7ad7-bccd-49ab-b244-7ab2c0afb7ff",
   "metadata": {},
   "outputs": [
    {
     "data": {
      "text/plain": [
       "array([[ 0.18591003,  1.01964602, -0.43524364, ..., -0.03576256,\n",
       "        -0.2717688 , -1.48430318],\n",
       "       [ 1.39279567, -0.76634569,  0.64186693, ...,  0.15215346,\n",
       "         0.81821817,  0.9212206 ],\n",
       "       [-0.68806067, -0.74391338, -0.66215398, ..., -0.83661639,\n",
       "         0.1600746 , -0.27682618],\n",
       "       ...,\n",
       "       [ 0.35698425,  0.04365315,  0.5947503 , ..., -0.13436769,\n",
       "         0.47239105, -0.66004783],\n",
       "       [ 0.30349003, -0.11437617,  0.58119483, ...,  1.00430411,\n",
       "         1.40999468,  1.12285401],\n",
       "       [-2.0001416 , -0.07342333, -0.00754763, ..., -0.54784178,\n",
       "         0.37875495, -1.12537847]])"
      ]
     },
     "execution_count": 6,
     "metadata": {},
     "output_type": "execute_result"
    }
   ],
   "source": [
    "X_train"
   ]
  },
  {
   "cell_type": "code",
   "execution_count": 7,
   "id": "40a94d54-c6db-4752-a578-e52e14302701",
   "metadata": {},
   "outputs": [
    {
     "data": {
      "text/plain": [
       "array([[ 1.48302491,  0.81204809,  2.21283069, ...,  0.46825488,\n",
       "        -0.17453995, -0.60441915],\n",
       "       [-0.38254529,  0.90192383, -2.28183109, ..., -1.55464802,\n",
       "         1.55654238, -1.00445501],\n",
       "       [-0.38597037,  1.43468766,  1.87689632, ...,  0.27974488,\n",
       "        -0.29362533, -0.60974881],\n",
       "       ...,\n",
       "       [ 1.01342739, -0.41748454, -0.43298372, ...,  0.50132775,\n",
       "         0.37080188, -0.94416961],\n",
       "       [ 0.87955393,  1.50491049, -1.43602736, ...,  1.10994221,\n",
       "         0.59013099,  1.19538247],\n",
       "       [-0.75219267,  0.89789487,  2.62176802, ..., -2.53760404,\n",
       "        -1.31086656, -0.12305445]])"
      ]
     },
     "execution_count": 7,
     "metadata": {},
     "output_type": "execute_result"
    }
   ],
   "source": [
    "X_test"
   ]
  },
  {
   "cell_type": "code",
   "execution_count": 8,
   "id": "48f2f8a9-3514-4e10-804b-c6b42c9a0f2e",
   "metadata": {},
   "outputs": [
    {
     "name": "stdout",
     "output_type": "stream",
     "text": [
      "Requirement already satisfied: XGboost in /opt/conda/lib/python3.10/site-packages (2.0.3)\n",
      "Requirement already satisfied: numpy in /opt/conda/lib/python3.10/site-packages (from XGboost) (1.23.5)\n",
      "Requirement already satisfied: scipy in /opt/conda/lib/python3.10/site-packages (from XGboost) (1.9.3)\n"
     ]
    }
   ],
   "source": [
    "!pip install XGboost"
   ]
  },
  {
   "cell_type": "code",
   "execution_count": 9,
   "id": "414a18eb-e239-433b-bd74-3f54314bb9e7",
   "metadata": {},
   "outputs": [
    {
     "data": {
      "text/plain": [
       "array([0, 0, 0, 1, 1, 0, 1, 0, 0, 1, 1, 1, 1, 1, 1, 0, 1, 0, 0, 1, 0, 1,\n",
       "       1, 1, 0, 1, 1, 1, 1, 1, 1, 1, 1, 0, 1, 0, 1, 1, 1, 0, 0, 0, 1, 1,\n",
       "       1, 0, 1, 0, 1, 0, 0, 0, 0, 1, 0, 1, 1, 1, 1, 1, 0, 1, 0, 1, 1, 0,\n",
       "       1, 0, 1, 0, 0, 1, 1, 0, 1, 0, 1, 0, 1, 0, 0, 0, 0, 0, 0, 1, 0, 0,\n",
       "       0, 1, 0, 1, 0, 0, 1, 0, 1, 0, 0, 1, 1, 1, 0, 1, 0, 1, 0, 0, 0, 0,\n",
       "       1, 0, 1, 0, 0, 1, 0, 1, 1, 1, 1, 1, 1, 1, 0, 0, 0, 0, 1, 1, 1, 0,\n",
       "       1, 1, 0, 0, 1, 0, 0, 1, 0, 1, 1, 0, 1, 1, 1, 0, 1, 1, 0, 1, 0, 0,\n",
       "       0, 0, 1, 1, 0, 1, 0, 1, 1, 1, 1, 0, 0, 1, 0, 1, 1, 0, 1, 0, 0, 0,\n",
       "       1, 0, 0, 0, 0, 1, 1, 1, 0, 0, 1, 0, 0, 1, 1, 1, 0, 1, 0, 1, 0, 0,\n",
       "       0, 0, 1, 0, 0, 1, 0, 0, 1, 1, 1, 0, 1, 1, 1, 1, 1, 0, 0, 0, 1, 0,\n",
       "       1, 0, 0, 1, 0, 1, 1, 0, 0, 1, 0, 1, 1, 0, 1, 1, 1, 0, 0, 0, 1, 1,\n",
       "       1, 0, 0, 1, 1, 1, 1, 0, 1, 0, 1, 1, 1, 1, 1, 1, 1, 0, 1, 0, 1, 0,\n",
       "       1, 0, 1, 1, 0, 0, 0, 0, 0, 0, 1, 1, 1, 1, 1, 1, 1, 1, 1, 0, 1, 1,\n",
       "       0, 1, 0, 1, 1, 1, 0, 0, 0, 1, 0, 1, 1, 0, 1, 1, 1, 1, 1, 0, 1, 0,\n",
       "       0, 0, 0, 0, 0, 0, 1, 1, 0, 0, 1, 0, 0, 1, 1, 0, 0, 1, 1, 0, 1, 0,\n",
       "       0, 0, 0, 1, 0, 1, 0, 1, 0, 1, 1, 0, 1, 1, 1, 0, 0, 0, 0, 1, 0, 1,\n",
       "       1, 0, 1, 0, 0, 0, 0, 1, 1, 1, 1, 0, 0, 1, 1, 0, 0, 1, 0, 1, 0, 1,\n",
       "       1, 1, 0, 0, 1, 0, 0, 1, 0, 0, 1, 1, 0, 1, 0, 0, 0, 1, 1, 1, 0, 1,\n",
       "       0, 1, 1, 0, 1, 1, 0, 0, 0, 0, 0, 1, 0, 0, 0, 1, 1, 1, 1, 0, 1, 1,\n",
       "       1, 1, 0, 0, 1, 1, 1, 0, 0, 0, 0, 1, 0, 1, 1, 1, 0, 1, 0, 0, 1, 1,\n",
       "       1, 1, 1, 1, 0, 1, 0, 1, 1, 0, 0, 0, 0, 1, 0, 0, 0, 0, 1, 0, 0, 0,\n",
       "       0, 0, 1, 1, 1, 0, 1, 0, 1, 0, 0, 0, 0, 1, 0, 0, 0, 0, 0, 1, 1, 1,\n",
       "       1, 1, 1, 0, 1, 0, 0, 1, 0, 1, 1, 1, 1, 1, 1, 1, 1, 0, 0, 0, 0, 1,\n",
       "       0, 1, 0, 0, 0, 0, 1, 1, 1, 0, 1, 0, 1, 1, 0, 0, 0, 0, 1, 1, 0, 0,\n",
       "       1, 0, 0, 0, 0, 0, 0, 0, 0, 1, 0, 0, 0, 0, 0, 1, 0, 0, 1, 0, 0, 1,\n",
       "       0, 0, 0, 0, 0, 0, 0, 0, 1, 0, 0, 0, 1, 0, 1, 0, 1, 1, 1, 1, 0, 1,\n",
       "       0, 1, 0, 0, 1, 0, 0, 1, 0, 1, 1, 1, 0, 0, 0, 0, 1, 1, 0, 0, 1, 0,\n",
       "       1, 0, 0, 0, 1, 1])"
      ]
     },
     "execution_count": 9,
     "metadata": {},
     "output_type": "execute_result"
    }
   ],
   "source": [
    "from xgboost import XGBClassifier\n",
    "classifier =XGBClassifier()\n",
    "classifier.fit(X_train ,y_train)\n",
    "y_pred =classifier.predict(X_test)\n",
    "y_pred"
   ]
  },
  {
   "cell_type": "code",
   "execution_count": 10,
   "id": "b75cb1d4-eec7-4963-9e95-ced1165e1a31",
   "metadata": {},
   "outputs": [
    {
     "name": "stdout",
     "output_type": "stream",
     "text": [
      "[[280  20]\n",
      " [ 23 277]]\n"
     ]
    }
   ],
   "source": [
    "from sklearn.metrics import accuracy_score,classification_report ,confusion_matrix\n",
    "print(confusion_matrix(y_test ,y_pred))"
   ]
  },
  {
   "cell_type": "code",
   "execution_count": 11,
   "id": "3e3adaaf-c246-423e-9969-35494e7e7b37",
   "metadata": {},
   "outputs": [
    {
     "name": "stdout",
     "output_type": "stream",
     "text": [
      "0.9283333333333333\n"
     ]
    }
   ],
   "source": [
    "print(accuracy_score(y_test ,y_pred))"
   ]
  },
  {
   "cell_type": "code",
   "execution_count": 12,
   "id": "a55fec8f-6ed3-43a1-b496-36be51a2a0fb",
   "metadata": {},
   "outputs": [
    {
     "name": "stdout",
     "output_type": "stream",
     "text": [
      "              precision    recall  f1-score   support\n",
      "\n",
      "           0       0.92      0.93      0.93       300\n",
      "           1       0.93      0.92      0.93       300\n",
      "\n",
      "    accuracy                           0.93       600\n",
      "   macro avg       0.93      0.93      0.93       600\n",
      "weighted avg       0.93      0.93      0.93       600\n",
      "\n"
     ]
    }
   ],
   "source": [
    "print(classification_report(y_test ,y_pred))"
   ]
  },
  {
   "cell_type": "markdown",
   "id": "e97c8d8c-2f5c-45bf-b126-77f5c6d47a33",
   "metadata": {},
   "source": [
    "hyperparameter tunning"
   ]
  },
  {
   "cell_type": "code",
   "execution_count": 13,
   "id": "15b4b8f6-7ac9-4e4d-8b24-505c53f2c85a",
   "metadata": {},
   "outputs": [],
   "source": [
    "from sklearn.model_selection import GridSearchCV\n",
    "param_grid ={\"loss\":[\"log_loss\",\"exponential\"],\n",
    "            \"learning_rate\":[0.001,0.005],\n",
    "            \"n_estimators\":[1,2,3,4,5]}\n",
    "Grad =XGBClassifier()"
   ]
  },
  {
   "cell_type": "code",
   "execution_count": 14,
   "id": "7af4edce-af6a-42c8-b418-a644760393da",
   "metadata": {},
   "outputs": [],
   "source": [
    "clf =GridSearchCV(estimator=Grad ,param_grid=param_grid ,cv =5,verbose=3)"
   ]
  },
  {
   "cell_type": "code",
   "execution_count": 15,
   "id": "85287cd6-9519-47f6-b0d7-434b44289d0d",
   "metadata": {},
   "outputs": [
    {
     "name": "stdout",
     "output_type": "stream",
     "text": [
      "Fitting 5 folds for each of 20 candidates, totalling 100 fits\n",
      "[CV 1/5] END learning_rate=0.001, loss=log_loss, n_estimators=1;, score=0.500 total time=   0.0s\n",
      "[CV 2/5] END learning_rate=0.001, loss=log_loss, n_estimators=1;, score=0.504 total time=   0.1s\n",
      "[CV 3/5] END learning_rate=0.001, loss=log_loss, n_estimators=1;, score=0.504 total time=   0.1s\n",
      "[CV 4/5] END learning_rate=0.001, loss=log_loss, n_estimators=1;, score=0.504 total time=   0.1s\n",
      "[CV 5/5] END learning_rate=0.001, loss=log_loss, n_estimators=1;, score=0.504 total time=   0.1s\n",
      "[CV 1/5] END learning_rate=0.001, loss=log_loss, n_estimators=2;, score=0.500 total time=   0.2s\n",
      "[CV 2/5] END learning_rate=0.001, loss=log_loss, n_estimators=2;, score=0.504 total time=   0.2s\n",
      "[CV 3/5] END learning_rate=0.001, loss=log_loss, n_estimators=2;, score=0.504 total time=   0.1s\n",
      "[CV 4/5] END learning_rate=0.001, loss=log_loss, n_estimators=2;, score=0.504 total time=   0.0s\n",
      "[CV 5/5] END learning_rate=0.001, loss=log_loss, n_estimators=2;, score=0.504 total time=   0.1s\n",
      "[CV 1/5] END learning_rate=0.001, loss=log_loss, n_estimators=3;, score=0.500 total time=   0.2s\n",
      "[CV 2/5] END learning_rate=0.001, loss=log_loss, n_estimators=3;, score=0.504 total time=   0.2s\n",
      "[CV 3/5] END learning_rate=0.001, loss=log_loss, n_estimators=3;, score=0.504 total time=   0.1s\n",
      "[CV 4/5] END learning_rate=0.001, loss=log_loss, n_estimators=3;, score=0.504 total time=   0.0s\n",
      "[CV 5/5] END learning_rate=0.001, loss=log_loss, n_estimators=3;, score=0.504 total time=   0.2s\n",
      "[CV 1/5] END learning_rate=0.001, loss=log_loss, n_estimators=4;, score=0.500 total time=   0.3s\n",
      "[CV 2/5] END learning_rate=0.001, loss=log_loss, n_estimators=4;, score=0.504 total time=   0.3s\n",
      "[CV 3/5] END learning_rate=0.001, loss=log_loss, n_estimators=4;, score=0.504 total time=   0.3s\n",
      "[CV 4/5] END learning_rate=0.001, loss=log_loss, n_estimators=4;, score=0.504 total time=   0.3s\n",
      "[CV 5/5] END learning_rate=0.001, loss=log_loss, n_estimators=4;, score=0.504 total time=   0.3s\n",
      "[CV 1/5] END learning_rate=0.001, loss=log_loss, n_estimators=5;, score=0.500 total time=   0.3s\n",
      "[CV 2/5] END learning_rate=0.001, loss=log_loss, n_estimators=5;, score=0.504 total time=   0.3s\n",
      "[CV 3/5] END learning_rate=0.001, loss=log_loss, n_estimators=5;, score=0.504 total time=   0.4s\n",
      "[CV 4/5] END learning_rate=0.001, loss=log_loss, n_estimators=5;, score=0.504 total time=   0.4s\n",
      "[CV 5/5] END learning_rate=0.001, loss=log_loss, n_estimators=5;, score=0.504 total time=   0.3s\n",
      "[CV 1/5] END learning_rate=0.001, loss=exponential, n_estimators=1;, score=0.500 total time=   0.1s\n",
      "[CV 2/5] END learning_rate=0.001, loss=exponential, n_estimators=1;, score=0.504 total time=   0.1s\n",
      "[CV 3/5] END learning_rate=0.001, loss=exponential, n_estimators=1;, score=0.504 total time=   0.1s\n",
      "[CV 4/5] END learning_rate=0.001, loss=exponential, n_estimators=1;, score=0.504 total time=   0.1s\n",
      "[CV 5/5] END learning_rate=0.001, loss=exponential, n_estimators=1;, score=0.504 total time=   0.1s\n",
      "[CV 1/5] END learning_rate=0.001, loss=exponential, n_estimators=2;, score=0.500 total time=   0.2s\n",
      "[CV 2/5] END learning_rate=0.001, loss=exponential, n_estimators=2;, score=0.504 total time=   0.2s\n",
      "[CV 3/5] END learning_rate=0.001, loss=exponential, n_estimators=2;, score=0.504 total time=   0.2s\n",
      "[CV 4/5] END learning_rate=0.001, loss=exponential, n_estimators=2;, score=0.504 total time=   0.2s\n",
      "[CV 5/5] END learning_rate=0.001, loss=exponential, n_estimators=2;, score=0.504 total time=   0.2s\n",
      "[CV 1/5] END learning_rate=0.001, loss=exponential, n_estimators=3;, score=0.500 total time=   0.0s\n",
      "[CV 2/5] END learning_rate=0.001, loss=exponential, n_estimators=3;, score=0.504 total time=   0.1s\n",
      "[CV 3/5] END learning_rate=0.001, loss=exponential, n_estimators=3;, score=0.504 total time=   0.2s\n",
      "[CV 4/5] END learning_rate=0.001, loss=exponential, n_estimators=3;, score=0.504 total time=   0.0s\n",
      "[CV 5/5] END learning_rate=0.001, loss=exponential, n_estimators=3;, score=0.504 total time=   0.0s\n",
      "[CV 1/5] END learning_rate=0.001, loss=exponential, n_estimators=4;, score=0.500 total time=   0.0s\n",
      "[CV 2/5] END learning_rate=0.001, loss=exponential, n_estimators=4;, score=0.504 total time=   0.0s\n",
      "[CV 3/5] END learning_rate=0.001, loss=exponential, n_estimators=4;, score=0.504 total time=   0.0s\n",
      "[CV 4/5] END learning_rate=0.001, loss=exponential, n_estimators=4;, score=0.504 total time=   0.0s\n",
      "[CV 5/5] END learning_rate=0.001, loss=exponential, n_estimators=4;, score=0.504 total time=   0.0s\n",
      "[CV 1/5] END learning_rate=0.001, loss=exponential, n_estimators=5;, score=0.500 total time=   0.0s\n",
      "[CV 2/5] END learning_rate=0.001, loss=exponential, n_estimators=5;, score=0.504 total time=   0.3s\n",
      "[CV 3/5] END learning_rate=0.001, loss=exponential, n_estimators=5;, score=0.504 total time=   0.3s\n",
      "[CV 4/5] END learning_rate=0.001, loss=exponential, n_estimators=5;, score=0.504 total time=   0.1s\n",
      "[CV 5/5] END learning_rate=0.001, loss=exponential, n_estimators=5;, score=0.504 total time=   0.0s\n",
      "[CV 1/5] END learning_rate=0.005, loss=log_loss, n_estimators=1;, score=0.500 total time=   0.0s\n",
      "[CV 2/5] END learning_rate=0.005, loss=log_loss, n_estimators=1;, score=0.504 total time=   0.0s\n",
      "[CV 3/5] END learning_rate=0.005, loss=log_loss, n_estimators=1;, score=0.504 total time=   0.1s\n",
      "[CV 4/5] END learning_rate=0.005, loss=log_loss, n_estimators=1;, score=0.504 total time=   0.0s\n",
      "[CV 5/5] END learning_rate=0.005, loss=log_loss, n_estimators=1;, score=0.504 total time=   0.0s\n",
      "[CV 1/5] END learning_rate=0.005, loss=log_loss, n_estimators=2;, score=0.907 total time=   0.1s\n",
      "[CV 2/5] END learning_rate=0.005, loss=log_loss, n_estimators=2;, score=0.900 total time=   0.1s\n",
      "[CV 3/5] END learning_rate=0.005, loss=log_loss, n_estimators=2;, score=0.900 total time=   0.2s\n",
      "[CV 4/5] END learning_rate=0.005, loss=log_loss, n_estimators=2;, score=0.932 total time=   0.2s\n",
      "[CV 5/5] END learning_rate=0.005, loss=log_loss, n_estimators=2;, score=0.936 total time=   0.1s\n",
      "[CV 1/5] END learning_rate=0.005, loss=log_loss, n_estimators=3;, score=0.914 total time=   0.2s\n",
      "[CV 2/5] END learning_rate=0.005, loss=log_loss, n_estimators=3;, score=0.918 total time=   0.2s\n",
      "[CV 3/5] END learning_rate=0.005, loss=log_loss, n_estimators=3;, score=0.900 total time=   0.2s\n",
      "[CV 4/5] END learning_rate=0.005, loss=log_loss, n_estimators=3;, score=0.950 total time=   0.2s\n",
      "[CV 5/5] END learning_rate=0.005, loss=log_loss, n_estimators=3;, score=0.946 total time=   0.2s\n",
      "[CV 1/5] END learning_rate=0.005, loss=log_loss, n_estimators=4;, score=0.921 total time=   0.1s\n",
      "[CV 2/5] END learning_rate=0.005, loss=log_loss, n_estimators=4;, score=0.921 total time=   0.0s\n",
      "[CV 3/5] END learning_rate=0.005, loss=log_loss, n_estimators=4;, score=0.921 total time=   0.3s\n",
      "[CV 4/5] END learning_rate=0.005, loss=log_loss, n_estimators=4;, score=0.943 total time=   0.3s\n",
      "[CV 5/5] END learning_rate=0.005, loss=log_loss, n_estimators=4;, score=0.946 total time=   0.3s\n",
      "[CV 1/5] END learning_rate=0.005, loss=log_loss, n_estimators=5;, score=0.921 total time=   0.3s\n",
      "[CV 2/5] END learning_rate=0.005, loss=log_loss, n_estimators=5;, score=0.936 total time=   0.4s\n",
      "[CV 3/5] END learning_rate=0.005, loss=log_loss, n_estimators=5;, score=0.921 total time=   0.4s\n",
      "[CV 4/5] END learning_rate=0.005, loss=log_loss, n_estimators=5;, score=0.943 total time=   0.4s\n",
      "[CV 5/5] END learning_rate=0.005, loss=log_loss, n_estimators=5;, score=0.946 total time=   0.3s\n",
      "[CV 1/5] END learning_rate=0.005, loss=exponential, n_estimators=1;, score=0.500 total time=   0.1s\n",
      "[CV 2/5] END learning_rate=0.005, loss=exponential, n_estimators=1;, score=0.504 total time=   0.1s\n",
      "[CV 3/5] END learning_rate=0.005, loss=exponential, n_estimators=1;, score=0.504 total time=   0.1s\n",
      "[CV 4/5] END learning_rate=0.005, loss=exponential, n_estimators=1;, score=0.504 total time=   0.1s\n",
      "[CV 5/5] END learning_rate=0.005, loss=exponential, n_estimators=1;, score=0.504 total time=   0.1s\n",
      "[CV 1/5] END learning_rate=0.005, loss=exponential, n_estimators=2;, score=0.907 total time=   0.2s\n",
      "[CV 2/5] END learning_rate=0.005, loss=exponential, n_estimators=2;, score=0.900 total time=   0.2s\n",
      "[CV 3/5] END learning_rate=0.005, loss=exponential, n_estimators=2;, score=0.900 total time=   0.2s\n",
      "[CV 4/5] END learning_rate=0.005, loss=exponential, n_estimators=2;, score=0.932 total time=   0.2s\n",
      "[CV 5/5] END learning_rate=0.005, loss=exponential, n_estimators=2;, score=0.936 total time=   0.2s\n",
      "[CV 1/5] END learning_rate=0.005, loss=exponential, n_estimators=3;, score=0.914 total time=   0.3s\n",
      "[CV 2/5] END learning_rate=0.005, loss=exponential, n_estimators=3;, score=0.918 total time=   0.3s\n",
      "[CV 3/5] END learning_rate=0.005, loss=exponential, n_estimators=3;, score=0.900 total time=   0.2s\n",
      "[CV 4/5] END learning_rate=0.005, loss=exponential, n_estimators=3;, score=0.950 total time=   0.2s\n",
      "[CV 5/5] END learning_rate=0.005, loss=exponential, n_estimators=3;, score=0.946 total time=   0.2s\n",
      "[CV 1/5] END learning_rate=0.005, loss=exponential, n_estimators=4;, score=0.921 total time=   0.3s\n",
      "[CV 2/5] END learning_rate=0.005, loss=exponential, n_estimators=4;, score=0.921 total time=   0.1s\n",
      "[CV 3/5] END learning_rate=0.005, loss=exponential, n_estimators=4;, score=0.921 total time=   0.1s\n",
      "[CV 4/5] END learning_rate=0.005, loss=exponential, n_estimators=4;, score=0.943 total time=   0.0s\n",
      "[CV 5/5] END learning_rate=0.005, loss=exponential, n_estimators=4;, score=0.946 total time=   0.2s\n",
      "[CV 1/5] END learning_rate=0.005, loss=exponential, n_estimators=5;, score=0.921 total time=   0.1s\n",
      "[CV 2/5] END learning_rate=0.005, loss=exponential, n_estimators=5;, score=0.936 total time=   0.3s\n",
      "[CV 3/5] END learning_rate=0.005, loss=exponential, n_estimators=5;, score=0.921 total time=   0.2s\n",
      "[CV 4/5] END learning_rate=0.005, loss=exponential, n_estimators=5;, score=0.943 total time=   0.3s\n",
      "[CV 5/5] END learning_rate=0.005, loss=exponential, n_estimators=5;, score=0.946 total time=   0.1s\n"
     ]
    },
    {
     "data": {
      "text/html": [
       "<style>#sk-container-id-1 {color: black;background-color: white;}#sk-container-id-1 pre{padding: 0;}#sk-container-id-1 div.sk-toggleable {background-color: white;}#sk-container-id-1 label.sk-toggleable__label {cursor: pointer;display: block;width: 100%;margin-bottom: 0;padding: 0.3em;box-sizing: border-box;text-align: center;}#sk-container-id-1 label.sk-toggleable__label-arrow:before {content: \"▸\";float: left;margin-right: 0.25em;color: #696969;}#sk-container-id-1 label.sk-toggleable__label-arrow:hover:before {color: black;}#sk-container-id-1 div.sk-estimator:hover label.sk-toggleable__label-arrow:before {color: black;}#sk-container-id-1 div.sk-toggleable__content {max-height: 0;max-width: 0;overflow: hidden;text-align: left;background-color: #f0f8ff;}#sk-container-id-1 div.sk-toggleable__content pre {margin: 0.2em;color: black;border-radius: 0.25em;background-color: #f0f8ff;}#sk-container-id-1 input.sk-toggleable__control:checked~div.sk-toggleable__content {max-height: 200px;max-width: 100%;overflow: auto;}#sk-container-id-1 input.sk-toggleable__control:checked~label.sk-toggleable__label-arrow:before {content: \"▾\";}#sk-container-id-1 div.sk-estimator input.sk-toggleable__control:checked~label.sk-toggleable__label {background-color: #d4ebff;}#sk-container-id-1 div.sk-label input.sk-toggleable__control:checked~label.sk-toggleable__label {background-color: #d4ebff;}#sk-container-id-1 input.sk-hidden--visually {border: 0;clip: rect(1px 1px 1px 1px);clip: rect(1px, 1px, 1px, 1px);height: 1px;margin: -1px;overflow: hidden;padding: 0;position: absolute;width: 1px;}#sk-container-id-1 div.sk-estimator {font-family: monospace;background-color: #f0f8ff;border: 1px dotted black;border-radius: 0.25em;box-sizing: border-box;margin-bottom: 0.5em;}#sk-container-id-1 div.sk-estimator:hover {background-color: #d4ebff;}#sk-container-id-1 div.sk-parallel-item::after {content: \"\";width: 100%;border-bottom: 1px solid gray;flex-grow: 1;}#sk-container-id-1 div.sk-label:hover label.sk-toggleable__label {background-color: #d4ebff;}#sk-container-id-1 div.sk-serial::before {content: \"\";position: absolute;border-left: 1px solid gray;box-sizing: border-box;top: 0;bottom: 0;left: 50%;z-index: 0;}#sk-container-id-1 div.sk-serial {display: flex;flex-direction: column;align-items: center;background-color: white;padding-right: 0.2em;padding-left: 0.2em;position: relative;}#sk-container-id-1 div.sk-item {position: relative;z-index: 1;}#sk-container-id-1 div.sk-parallel {display: flex;align-items: stretch;justify-content: center;background-color: white;position: relative;}#sk-container-id-1 div.sk-item::before, #sk-container-id-1 div.sk-parallel-item::before {content: \"\";position: absolute;border-left: 1px solid gray;box-sizing: border-box;top: 0;bottom: 0;left: 50%;z-index: -1;}#sk-container-id-1 div.sk-parallel-item {display: flex;flex-direction: column;z-index: 1;position: relative;background-color: white;}#sk-container-id-1 div.sk-parallel-item:first-child::after {align-self: flex-end;width: 50%;}#sk-container-id-1 div.sk-parallel-item:last-child::after {align-self: flex-start;width: 50%;}#sk-container-id-1 div.sk-parallel-item:only-child::after {width: 0;}#sk-container-id-1 div.sk-dashed-wrapped {border: 1px dashed gray;margin: 0 0.4em 0.5em 0.4em;box-sizing: border-box;padding-bottom: 0.4em;background-color: white;}#sk-container-id-1 div.sk-label label {font-family: monospace;font-weight: bold;display: inline-block;line-height: 1.2em;}#sk-container-id-1 div.sk-label-container {text-align: center;}#sk-container-id-1 div.sk-container {/* jupyter's `normalize.less` sets `[hidden] { display: none; }` but bootstrap.min.css set `[hidden] { display: none !important; }` so we also need the `!important` here to be able to override the default hidden behavior on the sphinx rendered scikit-learn.org. See: https://github.com/scikit-learn/scikit-learn/issues/21755 */display: inline-block !important;position: relative;}#sk-container-id-1 div.sk-text-repr-fallback {display: none;}</style><div id=\"sk-container-id-1\" class=\"sk-top-container\"><div class=\"sk-text-repr-fallback\"><pre>GridSearchCV(cv=5,\n",
       "             estimator=XGBClassifier(base_score=None, booster=None,\n",
       "                                     callbacks=None, colsample_bylevel=None,\n",
       "                                     colsample_bynode=None,\n",
       "                                     colsample_bytree=None, device=None,\n",
       "                                     early_stopping_rounds=None,\n",
       "                                     enable_categorical=False, eval_metric=None,\n",
       "                                     feature_types=None, gamma=None,\n",
       "                                     grow_policy=None, importance_type=None,\n",
       "                                     interaction_constraints=None,\n",
       "                                     learning_rate=None,...\n",
       "                                     max_cat_threshold=None,\n",
       "                                     max_cat_to_onehot=None,\n",
       "                                     max_delta_step=None, max_depth=None,\n",
       "                                     max_leaves=None, min_child_weight=None,\n",
       "                                     missing=nan, monotone_constraints=None,\n",
       "                                     multi_strategy=None, n_estimators=None,\n",
       "                                     n_jobs=None, num_parallel_tree=None,\n",
       "                                     random_state=None, ...),\n",
       "             param_grid={&#x27;learning_rate&#x27;: [0.001, 0.005],\n",
       "                         &#x27;loss&#x27;: [&#x27;log_loss&#x27;, &#x27;exponential&#x27;],\n",
       "                         &#x27;n_estimators&#x27;: [1, 2, 3, 4, 5]},\n",
       "             verbose=3)</pre><b>In a Jupyter environment, please rerun this cell to show the HTML representation or trust the notebook. <br />On GitHub, the HTML representation is unable to render, please try loading this page with nbviewer.org.</b></div><div class=\"sk-container\" hidden><div class=\"sk-item sk-dashed-wrapped\"><div class=\"sk-label-container\"><div class=\"sk-label sk-toggleable\"><input class=\"sk-toggleable__control sk-hidden--visually\" id=\"sk-estimator-id-1\" type=\"checkbox\" ><label for=\"sk-estimator-id-1\" class=\"sk-toggleable__label sk-toggleable__label-arrow\">GridSearchCV</label><div class=\"sk-toggleable__content\"><pre>GridSearchCV(cv=5,\n",
       "             estimator=XGBClassifier(base_score=None, booster=None,\n",
       "                                     callbacks=None, colsample_bylevel=None,\n",
       "                                     colsample_bynode=None,\n",
       "                                     colsample_bytree=None, device=None,\n",
       "                                     early_stopping_rounds=None,\n",
       "                                     enable_categorical=False, eval_metric=None,\n",
       "                                     feature_types=None, gamma=None,\n",
       "                                     grow_policy=None, importance_type=None,\n",
       "                                     interaction_constraints=None,\n",
       "                                     learning_rate=None,...\n",
       "                                     max_cat_threshold=None,\n",
       "                                     max_cat_to_onehot=None,\n",
       "                                     max_delta_step=None, max_depth=None,\n",
       "                                     max_leaves=None, min_child_weight=None,\n",
       "                                     missing=nan, monotone_constraints=None,\n",
       "                                     multi_strategy=None, n_estimators=None,\n",
       "                                     n_jobs=None, num_parallel_tree=None,\n",
       "                                     random_state=None, ...),\n",
       "             param_grid={&#x27;learning_rate&#x27;: [0.001, 0.005],\n",
       "                         &#x27;loss&#x27;: [&#x27;log_loss&#x27;, &#x27;exponential&#x27;],\n",
       "                         &#x27;n_estimators&#x27;: [1, 2, 3, 4, 5]},\n",
       "             verbose=3)</pre></div></div></div><div class=\"sk-parallel\"><div class=\"sk-parallel-item\"><div class=\"sk-item\"><div class=\"sk-label-container\"><div class=\"sk-label sk-toggleable\"><input class=\"sk-toggleable__control sk-hidden--visually\" id=\"sk-estimator-id-2\" type=\"checkbox\" ><label for=\"sk-estimator-id-2\" class=\"sk-toggleable__label sk-toggleable__label-arrow\">estimator: XGBClassifier</label><div class=\"sk-toggleable__content\"><pre>XGBClassifier(base_score=None, booster=None, callbacks=None,\n",
       "              colsample_bylevel=None, colsample_bynode=None,\n",
       "              colsample_bytree=None, device=None, early_stopping_rounds=None,\n",
       "              enable_categorical=False, eval_metric=None, feature_types=None,\n",
       "              gamma=None, grow_policy=None, importance_type=None,\n",
       "              interaction_constraints=None, learning_rate=None, max_bin=None,\n",
       "              max_cat_threshold=None, max_cat_to_onehot=None,\n",
       "              max_delta_step=None, max_depth=None, max_leaves=None,\n",
       "              min_child_weight=None, missing=nan, monotone_constraints=None,\n",
       "              multi_strategy=None, n_estimators=None, n_jobs=None,\n",
       "              num_parallel_tree=None, random_state=None, ...)</pre></div></div></div><div class=\"sk-serial\"><div class=\"sk-item\"><div class=\"sk-estimator sk-toggleable\"><input class=\"sk-toggleable__control sk-hidden--visually\" id=\"sk-estimator-id-3\" type=\"checkbox\" ><label for=\"sk-estimator-id-3\" class=\"sk-toggleable__label sk-toggleable__label-arrow\">XGBClassifier</label><div class=\"sk-toggleable__content\"><pre>XGBClassifier(base_score=None, booster=None, callbacks=None,\n",
       "              colsample_bylevel=None, colsample_bynode=None,\n",
       "              colsample_bytree=None, device=None, early_stopping_rounds=None,\n",
       "              enable_categorical=False, eval_metric=None, feature_types=None,\n",
       "              gamma=None, grow_policy=None, importance_type=None,\n",
       "              interaction_constraints=None, learning_rate=None, max_bin=None,\n",
       "              max_cat_threshold=None, max_cat_to_onehot=None,\n",
       "              max_delta_step=None, max_depth=None, max_leaves=None,\n",
       "              min_child_weight=None, missing=nan, monotone_constraints=None,\n",
       "              multi_strategy=None, n_estimators=None, n_jobs=None,\n",
       "              num_parallel_tree=None, random_state=None, ...)</pre></div></div></div></div></div></div></div></div></div></div>"
      ],
      "text/plain": [
       "GridSearchCV(cv=5,\n",
       "             estimator=XGBClassifier(base_score=None, booster=None,\n",
       "                                     callbacks=None, colsample_bylevel=None,\n",
       "                                     colsample_bynode=None,\n",
       "                                     colsample_bytree=None, device=None,\n",
       "                                     early_stopping_rounds=None,\n",
       "                                     enable_categorical=False, eval_metric=None,\n",
       "                                     feature_types=None, gamma=None,\n",
       "                                     grow_policy=None, importance_type=None,\n",
       "                                     interaction_constraints=None,\n",
       "                                     learning_rate=None,...\n",
       "                                     max_cat_threshold=None,\n",
       "                                     max_cat_to_onehot=None,\n",
       "                                     max_delta_step=None, max_depth=None,\n",
       "                                     max_leaves=None, min_child_weight=None,\n",
       "                                     missing=nan, monotone_constraints=None,\n",
       "                                     multi_strategy=None, n_estimators=None,\n",
       "                                     n_jobs=None, num_parallel_tree=None,\n",
       "                                     random_state=None, ...),\n",
       "             param_grid={'learning_rate': [0.001, 0.005],\n",
       "                         'loss': ['log_loss', 'exponential'],\n",
       "                         'n_estimators': [1, 2, 3, 4, 5]},\n",
       "             verbose=3)"
      ]
     },
     "execution_count": 15,
     "metadata": {},
     "output_type": "execute_result"
    }
   ],
   "source": [
    "clf.fit(X_train ,y_train)"
   ]
  },
  {
   "cell_type": "code",
   "execution_count": 18,
   "id": "0ec58997-c1eb-4321-be03-8236736c9bd1",
   "metadata": {},
   "outputs": [
    {
     "data": {
      "text/html": [
       "<style>#sk-container-id-3 {color: black;background-color: white;}#sk-container-id-3 pre{padding: 0;}#sk-container-id-3 div.sk-toggleable {background-color: white;}#sk-container-id-3 label.sk-toggleable__label {cursor: pointer;display: block;width: 100%;margin-bottom: 0;padding: 0.3em;box-sizing: border-box;text-align: center;}#sk-container-id-3 label.sk-toggleable__label-arrow:before {content: \"▸\";float: left;margin-right: 0.25em;color: #696969;}#sk-container-id-3 label.sk-toggleable__label-arrow:hover:before {color: black;}#sk-container-id-3 div.sk-estimator:hover label.sk-toggleable__label-arrow:before {color: black;}#sk-container-id-3 div.sk-toggleable__content {max-height: 0;max-width: 0;overflow: hidden;text-align: left;background-color: #f0f8ff;}#sk-container-id-3 div.sk-toggleable__content pre {margin: 0.2em;color: black;border-radius: 0.25em;background-color: #f0f8ff;}#sk-container-id-3 input.sk-toggleable__control:checked~div.sk-toggleable__content {max-height: 200px;max-width: 100%;overflow: auto;}#sk-container-id-3 input.sk-toggleable__control:checked~label.sk-toggleable__label-arrow:before {content: \"▾\";}#sk-container-id-3 div.sk-estimator input.sk-toggleable__control:checked~label.sk-toggleable__label {background-color: #d4ebff;}#sk-container-id-3 div.sk-label input.sk-toggleable__control:checked~label.sk-toggleable__label {background-color: #d4ebff;}#sk-container-id-3 input.sk-hidden--visually {border: 0;clip: rect(1px 1px 1px 1px);clip: rect(1px, 1px, 1px, 1px);height: 1px;margin: -1px;overflow: hidden;padding: 0;position: absolute;width: 1px;}#sk-container-id-3 div.sk-estimator {font-family: monospace;background-color: #f0f8ff;border: 1px dotted black;border-radius: 0.25em;box-sizing: border-box;margin-bottom: 0.5em;}#sk-container-id-3 div.sk-estimator:hover {background-color: #d4ebff;}#sk-container-id-3 div.sk-parallel-item::after {content: \"\";width: 100%;border-bottom: 1px solid gray;flex-grow: 1;}#sk-container-id-3 div.sk-label:hover label.sk-toggleable__label {background-color: #d4ebff;}#sk-container-id-3 div.sk-serial::before {content: \"\";position: absolute;border-left: 1px solid gray;box-sizing: border-box;top: 0;bottom: 0;left: 50%;z-index: 0;}#sk-container-id-3 div.sk-serial {display: flex;flex-direction: column;align-items: center;background-color: white;padding-right: 0.2em;padding-left: 0.2em;position: relative;}#sk-container-id-3 div.sk-item {position: relative;z-index: 1;}#sk-container-id-3 div.sk-parallel {display: flex;align-items: stretch;justify-content: center;background-color: white;position: relative;}#sk-container-id-3 div.sk-item::before, #sk-container-id-3 div.sk-parallel-item::before {content: \"\";position: absolute;border-left: 1px solid gray;box-sizing: border-box;top: 0;bottom: 0;left: 50%;z-index: -1;}#sk-container-id-3 div.sk-parallel-item {display: flex;flex-direction: column;z-index: 1;position: relative;background-color: white;}#sk-container-id-3 div.sk-parallel-item:first-child::after {align-self: flex-end;width: 50%;}#sk-container-id-3 div.sk-parallel-item:last-child::after {align-self: flex-start;width: 50%;}#sk-container-id-3 div.sk-parallel-item:only-child::after {width: 0;}#sk-container-id-3 div.sk-dashed-wrapped {border: 1px dashed gray;margin: 0 0.4em 0.5em 0.4em;box-sizing: border-box;padding-bottom: 0.4em;background-color: white;}#sk-container-id-3 div.sk-label label {font-family: monospace;font-weight: bold;display: inline-block;line-height: 1.2em;}#sk-container-id-3 div.sk-label-container {text-align: center;}#sk-container-id-3 div.sk-container {/* jupyter's `normalize.less` sets `[hidden] { display: none; }` but bootstrap.min.css set `[hidden] { display: none !important; }` so we also need the `!important` here to be able to override the default hidden behavior on the sphinx rendered scikit-learn.org. See: https://github.com/scikit-learn/scikit-learn/issues/21755 */display: inline-block !important;position: relative;}#sk-container-id-3 div.sk-text-repr-fallback {display: none;}</style><div id=\"sk-container-id-3\" class=\"sk-top-container\"><div class=\"sk-text-repr-fallback\"><pre>XGBClassifier(base_score=None, booster=None, callbacks=None,\n",
       "              colsample_bylevel=None, colsample_bynode=None,\n",
       "              colsample_bytree=None, device=None, early_stopping_rounds=None,\n",
       "              enable_categorical=False, eval_metric=None, feature_types=None,\n",
       "              gamma=None, grow_policy=None, importance_type=None,\n",
       "              interaction_constraints=None, learning_rate=0.005,\n",
       "              loss=&#x27;log_loss&#x27;, max_bin=None, max_cat_threshold=None,\n",
       "              max_cat_to_onehot=None, max_delta_step=None, max_depth=None,\n",
       "              max_leaves=None, min_child_weight=None, missing=nan,\n",
       "              monotone_constraints=None, multi_strategy=None, n_estimators=5,\n",
       "              n_jobs=None, num_parallel_tree=None, ...)</pre><b>In a Jupyter environment, please rerun this cell to show the HTML representation or trust the notebook. <br />On GitHub, the HTML representation is unable to render, please try loading this page with nbviewer.org.</b></div><div class=\"sk-container\" hidden><div class=\"sk-item\"><div class=\"sk-estimator sk-toggleable\"><input class=\"sk-toggleable__control sk-hidden--visually\" id=\"sk-estimator-id-5\" type=\"checkbox\" checked><label for=\"sk-estimator-id-5\" class=\"sk-toggleable__label sk-toggleable__label-arrow\">XGBClassifier</label><div class=\"sk-toggleable__content\"><pre>XGBClassifier(base_score=None, booster=None, callbacks=None,\n",
       "              colsample_bylevel=None, colsample_bynode=None,\n",
       "              colsample_bytree=None, device=None, early_stopping_rounds=None,\n",
       "              enable_categorical=False, eval_metric=None, feature_types=None,\n",
       "              gamma=None, grow_policy=None, importance_type=None,\n",
       "              interaction_constraints=None, learning_rate=0.005,\n",
       "              loss=&#x27;log_loss&#x27;, max_bin=None, max_cat_threshold=None,\n",
       "              max_cat_to_onehot=None, max_delta_step=None, max_depth=None,\n",
       "              max_leaves=None, min_child_weight=None, missing=nan,\n",
       "              monotone_constraints=None, multi_strategy=None, n_estimators=5,\n",
       "              n_jobs=None, num_parallel_tree=None, ...)</pre></div></div></div></div></div>"
      ],
      "text/plain": [
       "XGBClassifier(base_score=None, booster=None, callbacks=None,\n",
       "              colsample_bylevel=None, colsample_bynode=None,\n",
       "              colsample_bytree=None, device=None, early_stopping_rounds=None,\n",
       "              enable_categorical=False, eval_metric=None, feature_types=None,\n",
       "              gamma=None, grow_policy=None, importance_type=None,\n",
       "              interaction_constraints=None, learning_rate=0.005,\n",
       "              loss='log_loss', max_bin=None, max_cat_threshold=None,\n",
       "              max_cat_to_onehot=None, max_delta_step=None, max_depth=None,\n",
       "              max_leaves=None, min_child_weight=None, missing=nan,\n",
       "              monotone_constraints=None, multi_strategy=None, n_estimators=5,\n",
       "              n_jobs=None, num_parallel_tree=None, ...)"
      ]
     },
     "execution_count": 18,
     "metadata": {},
     "output_type": "execute_result"
    }
   ],
   "source": [
    "clf.best_estimator_"
   ]
  },
  {
   "cell_type": "code",
   "execution_count": 19,
   "id": "81e90a4b-8948-4669-bfcc-95912b788bd1",
   "metadata": {},
   "outputs": [
    {
     "data": {
      "text/plain": [
       "0.9335714285714285"
      ]
     },
     "execution_count": 19,
     "metadata": {},
     "output_type": "execute_result"
    }
   ],
   "source": [
    "clf.best_score_"
   ]
  },
  {
   "cell_type": "code",
   "execution_count": null,
   "id": "1e3a9b4a-3eb1-40f0-800d-9f72c18dc37b",
   "metadata": {},
   "outputs": [],
   "source": []
  },
  {
   "cell_type": "code",
   "execution_count": null,
   "id": "a21675a0-76c5-4a90-b902-6dd06cb64ccb",
   "metadata": {},
   "outputs": [],
   "source": []
  }
 ],
 "metadata": {
  "kernelspec": {
   "display_name": "Python 3 (ipykernel)",
   "language": "python",
   "name": "python3"
  },
  "language_info": {
   "codemirror_mode": {
    "name": "ipython",
    "version": 3
   },
   "file_extension": ".py",
   "mimetype": "text/x-python",
   "name": "python",
   "nbconvert_exporter": "python",
   "pygments_lexer": "ipython3",
   "version": "3.10.8"
  }
 },
 "nbformat": 4,
 "nbformat_minor": 5
}
